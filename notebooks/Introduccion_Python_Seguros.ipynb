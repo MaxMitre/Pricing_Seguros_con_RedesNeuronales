{
  "nbformat": 4,
  "nbformat_minor": 0,
  "metadata": {
    "colab": {
      "provenance": []
    },
    "kernelspec": {
      "name": "python3",
      "display_name": "Python 3"
    },
    "language_info": {
      "name": "python"
    }
  },
  "cells": [
    {
      "cell_type": "markdown",
      "source": [
        "[![Open In Colab](https://colab.research.google.com/assets/colab-badge.svg)](https://colab.research.google.com/github/MaxMitre/Pricing_Seguros_con_RedesNeuronales/blob/main/notebooks/Introduccion_Python_Seguros.ipynb)"
      ],
      "metadata": {
        "id": "_d3rKG1A1tn6"
      }
    },
    {
      "cell_type": "markdown",
      "source": [
        "# Generalidades de Google Colab"
      ],
      "metadata": {
        "id": "z202eXiU6sFL"
      }
    },
    {
      "cell_type": "markdown",
      "source": [
        "Instalación de módulos\n"
      ],
      "metadata": {
        "id": "xY1-HVLR_Hkl"
      }
    },
    {
      "cell_type": "code",
      "source": [
        "!pip install pandas"
      ],
      "metadata": {
        "id": "4J57r_yT6wMW"
      },
      "execution_count": null,
      "outputs": []
    },
    {
      "cell_type": "code",
      "source": [
        "!pip install pandas==1.5.3"
      ],
      "metadata": {
        "id": "XJZAg5Pw6wKX"
      },
      "execution_count": null,
      "outputs": []
    },
    {
      "cell_type": "code",
      "source": [
        "!pip show pandas"
      ],
      "metadata": {
        "id": "mHDv-Aug6wIH",
        "colab": {
          "base_uri": "https://localhost:8080/"
        },
        "outputId": "a9e9f096-5667-4e01-af1e-cff8d2332477"
      },
      "execution_count": null,
      "outputs": [
        {
          "output_type": "stream",
          "name": "stdout",
          "text": [
            "Name: pandas\n",
            "Version: 2.2.2\n",
            "Summary: Powerful data structures for data analysis, time series, and statistics\n",
            "Home-page: https://pandas.pydata.org\n",
            "Author: \n",
            "Author-email: The Pandas Development Team <pandas-dev@python.org>\n",
            "License: BSD 3-Clause License\n",
            "\n",
            "Copyright (c) 2008-2011, AQR Capital Management, LLC, Lambda Foundry, Inc. and PyData Development Team\n",
            "All rights reserved.\n",
            "\n",
            "Copyright (c) 2011-2023, Open source contributors.\n",
            "\n",
            "Redistribution and use in source and binary forms, with or without\n",
            "modification, are permitted provided that the following conditions are met:\n",
            "\n",
            "* Redistributions of source code must retain the above copyright notice, this\n",
            "  list of conditions and the following disclaimer.\n",
            "\n",
            "* Redistributions in binary form must reproduce the above copyright notice,\n",
            "  this list of conditions and the following disclaimer in the documentation\n",
            "  and/or other materials provided with the distribution.\n",
            "\n",
            "* Neither the name of the copyright holder nor the names of its\n",
            "  contributors may be used to endorse or promote products derived from\n",
            "  this software without specific prior written permission.\n",
            "\n",
            "THIS SOFTWARE IS PROVIDED BY THE COPYRIGHT HOLDERS AND CONTRIBUTORS \"AS IS\"\n",
            "AND ANY EXPRESS OR IMPLIED WARRANTIES, INCLUDING, BUT NOT LIMITED TO, THE\n",
            "IMPLIED WARRANTIES OF MERCHANTABILITY AND FITNESS FOR A PARTICULAR PURPOSE ARE\n",
            "DISCLAIMED. IN NO EVENT SHALL THE COPYRIGHT HOLDER OR CONTRIBUTORS BE LIABLE\n",
            "FOR ANY DIRECT, INDIRECT, INCIDENTAL, SPECIAL, EXEMPLARY, OR CONSEQUENTIAL\n",
            "DAMAGES (INCLUDING, BUT NOT LIMITED TO, PROCUREMENT OF SUBSTITUTE GOODS OR\n",
            "SERVICES; LOSS OF USE, DATA, OR PROFITS; OR BUSINESS INTERRUPTION) HOWEVER\n",
            "CAUSED AND ON ANY THEORY OF LIABILITY, WHETHER IN CONTRACT, STRICT LIABILITY,\n",
            "OR TORT (INCLUDING NEGLIGENCE OR OTHERWISE) ARISING IN ANY WAY OUT OF THE USE\n",
            "OF THIS SOFTWARE, EVEN IF ADVISED OF THE POSSIBILITY OF SUCH DAMAGE.\n",
            "Location: /usr/local/lib/python3.11/dist-packages\n",
            "Requires: numpy, python-dateutil, pytz, tzdata\n",
            "Required-by: arviz, bigframes, bigquery-magics, bokeh, bqplot, cmdstanpy, cudf-cu12, cufflinks, dask-cuda, dask-cudf-cu12, dask-expr, datascience, db-dtypes, dopamine_rl, fastai, geemap, geopandas, google-colab, gspread-dataframe, holoviews, ibis-framework, mizani, mlxtend, pandas-datareader, pandas-gbq, panel, plotnine, prophet, pymc, seaborn, shap, sklearn-pandas, statsmodels, vega-datasets, xarray, yfinance\n"
          ]
        }
      ]
    },
    {
      "cell_type": "code",
      "source": [
        "!pip list"
      ],
      "metadata": {
        "id": "wML2rGjz6wF7",
        "colab": {
          "base_uri": "https://localhost:8080/"
        },
        "outputId": "060a8c47-ca63-4ae7-8870-4401a27411f9"
      },
      "execution_count": null,
      "outputs": [
        {
          "output_type": "stream",
          "name": "stdout",
          "text": [
            "Package                            Version\n",
            "---------------------------------- ------------------\n",
            "absl-py                            1.4.0\n",
            "accelerate                         1.3.0\n",
            "aiohappyeyeballs                   2.5.0\n",
            "aiohttp                            3.11.13\n",
            "aiosignal                          1.3.2\n",
            "alabaster                          1.0.0\n",
            "albucore                           0.0.23\n",
            "albumentations                     2.0.5\n",
            "ale-py                             0.10.2\n",
            "altair                             5.5.0\n",
            "annotated-types                    0.7.0\n",
            "anyio                              3.7.1\n",
            "argon2-cffi                        23.1.0\n",
            "argon2-cffi-bindings               21.2.0\n",
            "array_record                       0.6.0\n",
            "arviz                              0.20.0\n",
            "astropy                            7.0.1\n",
            "astropy-iers-data                  0.2025.3.3.0.34.45\n",
            "astunparse                         1.6.3\n",
            "atpublic                           4.1.0\n",
            "attrs                              25.1.0\n",
            "audioread                          3.0.1\n",
            "autograd                           1.7.0\n",
            "babel                              2.17.0\n",
            "backcall                           0.2.0\n",
            "beautifulsoup4                     4.13.3\n",
            "betterproto                        2.0.0b6\n",
            "bigframes                          1.38.0\n",
            "bigquery-magics                    0.6.0\n",
            "bleach                             6.2.0\n",
            "blinker                            1.9.0\n",
            "blis                               0.7.11\n",
            "blosc2                             3.2.0\n",
            "bokeh                              3.6.3\n",
            "Bottleneck                         1.4.2\n",
            "bqplot                             0.12.44\n",
            "branca                             0.8.1\n",
            "CacheControl                       0.14.2\n",
            "cachetools                         5.5.2\n",
            "catalogue                          2.0.10\n",
            "certifi                            2025.1.31\n",
            "cffi                               1.17.1\n",
            "chardet                            5.2.0\n",
            "charset-normalizer                 3.4.1\n",
            "chex                               0.1.89\n",
            "clarabel                           0.10.0\n",
            "click                              8.1.8\n",
            "cloudpathlib                       0.21.0\n",
            "cloudpickle                        3.1.1\n",
            "cmake                              3.31.6\n",
            "cmdstanpy                          1.2.5\n",
            "colorcet                           3.1.0\n",
            "colorlover                         0.3.0\n",
            "colour                             0.1.5\n",
            "community                          1.0.0b1\n",
            "confection                         0.1.5\n",
            "cons                               0.4.6\n",
            "contourpy                          1.3.1\n",
            "cramjam                            2.9.1\n",
            "cryptography                       43.0.3\n",
            "cuda-python                        12.6.2.post1\n",
            "cudf-cu12                          25.2.1\n",
            "cudf-polars-cu12                   25.2.2\n",
            "cufflinks                          0.17.3\n",
            "cuml-cu12                          25.2.1\n",
            "cupy-cuda12x                       13.3.0\n",
            "cuvs-cu12                          25.2.1\n",
            "cvxopt                             1.3.2\n",
            "cvxpy                              1.6.2\n",
            "cycler                             0.12.1\n",
            "cyipopt                            1.5.0\n",
            "cymem                              2.0.11\n",
            "Cython                             3.0.12\n",
            "dask                               2024.12.1\n",
            "dask-cuda                          25.2.0\n",
            "dask-cudf-cu12                     25.2.2\n",
            "dask-expr                          1.1.21\n",
            "datascience                        0.17.6\n",
            "db-dtypes                          1.4.2\n",
            "dbus-python                        1.2.18\n",
            "debugpy                            1.8.0\n",
            "decorator                          4.4.2\n",
            "defusedxml                         0.7.1\n",
            "Deprecated                         1.2.18\n",
            "diffusers                          0.32.2\n",
            "distributed                        2024.12.1\n",
            "distributed-ucxx-cu12              0.42.0\n",
            "distro                             1.9.0\n",
            "dlib                               19.24.2\n",
            "dm-tree                            0.1.9\n",
            "docker-pycreds                     0.4.0\n",
            "docstring_parser                   0.16\n",
            "docutils                           0.21.2\n",
            "dopamine_rl                        4.1.2\n",
            "duckdb                             1.1.3\n",
            "earthengine-api                    1.5.5\n",
            "easydict                           1.13\n",
            "editdistance                       0.8.1\n",
            "eerepr                             0.1.1\n",
            "einops                             0.8.1\n",
            "en-core-web-sm                     3.7.1\n",
            "entrypoints                        0.4\n",
            "et_xmlfile                         2.0.0\n",
            "etils                              1.12.1\n",
            "etuples                            0.3.9\n",
            "Farama-Notifications               0.0.4\n",
            "fastai                             2.7.18\n",
            "fastcore                           1.7.29\n",
            "fastdownload                       0.0.7\n",
            "fastjsonschema                     2.21.1\n",
            "fastprogress                       1.0.3\n",
            "fastrlock                          0.8.3\n",
            "filelock                           3.17.0\n",
            "firebase-admin                     6.6.0\n",
            "Flask                              3.1.0\n",
            "flatbuffers                        25.2.10\n",
            "flax                               0.10.4\n",
            "folium                             0.19.5\n",
            "fonttools                          4.56.0\n",
            "frozendict                         2.4.6\n",
            "frozenlist                         1.5.0\n",
            "fsspec                             2024.10.0\n",
            "future                             1.0.0\n",
            "gast                               0.6.0\n",
            "gcsfs                              2024.10.0\n",
            "GDAL                               3.6.4\n",
            "gdown                              5.2.0\n",
            "geemap                             0.35.3\n",
            "geocoder                           1.38.1\n",
            "geographiclib                      2.0\n",
            "geopandas                          1.0.1\n",
            "geopy                              2.4.1\n",
            "gin-config                         0.5.0\n",
            "gitdb                              4.0.12\n",
            "GitPython                          3.1.44\n",
            "glob2                              0.7\n",
            "google                             2.0.3\n",
            "google-ai-generativelanguage       0.6.15\n",
            "google-api-core                    2.24.1\n",
            "google-api-python-client           2.160.0\n",
            "google-auth                        2.38.0\n",
            "google-auth-httplib2               0.2.0\n",
            "google-auth-oauthlib               1.2.1\n",
            "google-cloud-aiplatform            1.79.0\n",
            "google-cloud-bigquery              3.29.0\n",
            "google-cloud-bigquery-connection   1.18.1\n",
            "google-cloud-bigquery-storage      2.28.0\n",
            "google-cloud-bigtable              2.29.0\n",
            "google-cloud-core                  2.4.2\n",
            "google-cloud-dataproc              5.18.0\n",
            "google-cloud-datastore             2.20.2\n",
            "google-cloud-firestore             2.20.1\n",
            "google-cloud-functions             1.19.0\n",
            "google-cloud-iam                   2.18.1\n",
            "google-cloud-language              2.16.0\n",
            "google-cloud-pubsub                2.25.0\n",
            "google-cloud-resource-manager      1.14.1\n",
            "google-cloud-spanner               3.52.0\n",
            "google-cloud-storage               2.19.0\n",
            "google-cloud-translate             3.19.0\n",
            "google-colab                       1.0.0\n",
            "google-crc32c                      1.6.0\n",
            "google-genai                       1.4.0\n",
            "google-generativeai                0.8.4\n",
            "google-pasta                       0.2.0\n",
            "google-resumable-media             2.7.2\n",
            "google-spark-connect               0.5.3\n",
            "googleapis-common-protos           1.69.1\n",
            "googledrivedownloader              1.1.0\n",
            "graphviz                           0.20.3\n",
            "greenlet                           3.1.1\n",
            "grpc-google-iam-v1                 0.14.1\n",
            "grpc-interceptor                   0.15.4\n",
            "grpcio                             1.70.0\n",
            "grpcio-status                      1.62.3\n",
            "grpclib                            0.4.7\n",
            "gspread                            6.1.4\n",
            "gspread-dataframe                  4.0.0\n",
            "gym                                0.25.2\n",
            "gym-notices                        0.0.8\n",
            "gymnasium                          1.1.1\n",
            "h11                                0.14.0\n",
            "h2                                 4.2.0\n",
            "h5netcdf                           1.6.1\n",
            "h5py                               3.12.1\n",
            "hdbscan                            0.8.40\n",
            "highspy                            1.9.0\n",
            "holidays                           0.68\n",
            "holoviews                          1.20.1\n",
            "hpack                              4.1.0\n",
            "html5lib                           1.1\n",
            "httpcore                           1.0.7\n",
            "httpimport                         1.4.1\n",
            "httplib2                           0.22.0\n",
            "httpx                              0.28.1\n",
            "huggingface-hub                    0.28.1\n",
            "humanize                           4.11.0\n",
            "hyperframe                         6.1.0\n",
            "hyperopt                           0.2.7\n",
            "ibis-framework                     9.2.0\n",
            "idna                               3.10\n",
            "imageio                            2.37.0\n",
            "imageio-ffmpeg                     0.6.0\n",
            "imagesize                          1.4.1\n",
            "imbalanced-learn                   0.13.0\n",
            "imgaug                             0.4.0\n",
            "immutabledict                      4.2.1\n",
            "importlib_metadata                 8.6.1\n",
            "importlib_resources                6.5.2\n",
            "imutils                            0.5.4\n",
            "inflect                            7.5.0\n",
            "iniconfig                          2.0.0\n",
            "intel-cmplr-lib-ur                 2025.0.5\n",
            "intel-openmp                       2025.0.5\n",
            "ipyevents                          2.0.2\n",
            "ipyfilechooser                     0.6.0\n",
            "ipykernel                          6.17.1\n",
            "ipyleaflet                         0.19.2\n",
            "ipyparallel                        8.8.0\n",
            "ipython                            7.34.0\n",
            "ipython-genutils                   0.2.0\n",
            "ipython-sql                        0.5.0\n",
            "ipytree                            0.2.2\n",
            "ipywidgets                         7.7.1\n",
            "itsdangerous                       2.2.0\n",
            "jax                                0.5.2\n",
            "jax-cuda12-pjrt                    0.5.1\n",
            "jax-cuda12-plugin                  0.5.1\n",
            "jaxlib                             0.5.1\n",
            "jeepney                            0.7.1\n",
            "jellyfish                          1.1.0\n",
            "jieba                              0.42.1\n",
            "Jinja2                             3.1.6\n",
            "jiter                              0.8.2\n",
            "joblib                             1.4.2\n",
            "jsonpatch                          1.33\n",
            "jsonpickle                         4.0.2\n",
            "jsonpointer                        3.0.0\n",
            "jsonschema                         4.23.0\n",
            "jsonschema-specifications          2024.10.1\n",
            "jupyter-client                     6.1.12\n",
            "jupyter-console                    6.1.0\n",
            "jupyter_core                       5.7.2\n",
            "jupyter-leaflet                    0.19.2\n",
            "jupyter-server                     1.24.0\n",
            "jupyterlab_pygments                0.3.0\n",
            "jupyterlab_widgets                 3.0.13\n",
            "kaggle                             1.6.17\n",
            "kagglehub                          0.3.10\n",
            "keras                              3.8.0\n",
            "keras-hub                          0.18.1\n",
            "keras-nlp                          0.18.1\n",
            "keyring                            23.5.0\n",
            "kiwisolver                         1.4.8\n",
            "langchain                          0.3.20\n",
            "langchain-core                     0.3.43\n",
            "langchain-text-splitters           0.3.6\n",
            "langcodes                          3.5.0\n",
            "langsmith                          0.3.13\n",
            "language_data                      1.3.0\n",
            "launchpadlib                       1.10.16\n",
            "lazr.restfulclient                 0.14.4\n",
            "lazr.uri                           1.0.6\n",
            "lazy_loader                        0.4\n",
            "libclang                           18.1.1\n",
            "libcudf-cu12                       25.2.1\n",
            "libcugraph-cu12                    25.2.0\n",
            "libcuml-cu12                       25.2.1\n",
            "libcuvs-cu12                       25.2.1\n",
            "libkvikio-cu12                     25.2.1\n",
            "libraft-cu12                       25.2.0\n",
            "librosa                            0.10.2.post1\n",
            "libucx-cu12                        1.18.0\n",
            "libucxx-cu12                       0.42.0\n",
            "lightgbm                           4.5.0\n",
            "linkify-it-py                      2.0.3\n",
            "llvmlite                           0.43.0\n",
            "locket                             1.0.0\n",
            "logical-unification                0.4.6\n",
            "lxml                               5.3.1\n",
            "marisa-trie                        1.2.1\n",
            "Markdown                           3.7\n",
            "markdown-it-py                     3.0.0\n",
            "MarkupSafe                         3.0.2\n",
            "matplotlib                         3.10.0\n",
            "matplotlib-inline                  0.1.7\n",
            "matplotlib-venn                    1.1.2\n",
            "mdit-py-plugins                    0.4.2\n",
            "mdurl                              0.1.2\n",
            "miniKanren                         1.0.3\n",
            "missingno                          0.5.2\n",
            "mistune                            3.1.2\n",
            "mizani                             0.13.1\n",
            "mkl                                2025.0.1\n",
            "ml-dtypes                          0.4.1\n",
            "mlxtend                            0.23.4\n",
            "more-itertools                     10.6.0\n",
            "moviepy                            1.0.3\n",
            "mpmath                             1.3.0\n",
            "msgpack                            1.1.0\n",
            "multidict                          6.1.0\n",
            "multipledispatch                   1.0.0\n",
            "multitasking                       0.0.11\n",
            "murmurhash                         1.0.12\n",
            "music21                            9.3.0\n",
            "namex                              0.0.8\n",
            "narwhals                           1.29.1\n",
            "natsort                            8.4.0\n",
            "nbclassic                          1.2.0\n",
            "nbclient                           0.10.2\n",
            "nbconvert                          7.16.6\n",
            "nbformat                           5.10.4\n",
            "ndindex                            1.9.2\n",
            "nest-asyncio                       1.6.0\n",
            "networkx                           3.4.2\n",
            "nibabel                            5.3.2\n",
            "nltk                               3.9.1\n",
            "notebook                           6.5.5\n",
            "notebook_shim                      0.2.4\n",
            "numba                              0.60.0\n",
            "numba-cuda                         0.2.0\n",
            "numexpr                            2.10.2\n",
            "numpy                              1.26.4\n",
            "nvidia-cublas-cu12                 12.5.3.2\n",
            "nvidia-cuda-cupti-cu12             12.5.82\n",
            "nvidia-cuda-nvcc-cu12              12.5.82\n",
            "nvidia-cuda-nvrtc-cu12             12.5.82\n",
            "nvidia-cuda-runtime-cu12           12.5.82\n",
            "nvidia-cudnn-cu12                  9.3.0.75\n",
            "nvidia-cufft-cu12                  11.2.3.61\n",
            "nvidia-curand-cu12                 10.3.6.82\n",
            "nvidia-cusolver-cu12               11.6.3.83\n",
            "nvidia-cusparse-cu12               12.5.1.3\n",
            "nvidia-ml-py                       12.570.86\n",
            "nvidia-nccl-cu12                   2.21.5\n",
            "nvidia-nvcomp-cu12                 4.2.0.11\n",
            "nvidia-nvjitlink-cu12              12.5.82\n",
            "nvidia-nvtx-cu12                   12.4.127\n",
            "nvtx                               0.2.11\n",
            "nx-cugraph-cu12                    25.2.0\n",
            "oauth2client                       4.1.3\n",
            "oauthlib                           3.2.2\n",
            "openai                             1.61.1\n",
            "opencv-contrib-python              4.11.0.86\n",
            "opencv-python                      4.11.0.86\n",
            "opencv-python-headless             4.11.0.86\n",
            "openpyxl                           3.1.5\n",
            "opentelemetry-api                  1.16.0\n",
            "opentelemetry-sdk                  1.16.0\n",
            "opentelemetry-semantic-conventions 0.37b0\n",
            "opt_einsum                         3.4.0\n",
            "optax                              0.2.4\n",
            "optree                             0.14.1\n",
            "orbax-checkpoint                   0.11.8\n",
            "orjson                             3.10.15\n",
            "osqp                               0.6.7.post3\n",
            "packaging                          24.2\n",
            "pandas                             2.2.2\n",
            "pandas-datareader                  0.10.0\n",
            "pandas-gbq                         0.28.0\n",
            "pandas-stubs                       2.2.2.240909\n",
            "pandocfilters                      1.5.1\n",
            "panel                              1.6.1\n",
            "param                              2.2.0\n",
            "parso                              0.8.4\n",
            "parsy                              2.1\n",
            "partd                              1.4.2\n",
            "pathlib                            1.0.1\n",
            "patsy                              1.0.1\n",
            "peewee                             3.17.9\n",
            "peft                               0.14.0\n",
            "pexpect                            4.9.0\n",
            "pickleshare                        0.7.5\n",
            "pillow                             11.1.0\n",
            "pip                                24.1.2\n",
            "platformdirs                       4.3.6\n",
            "plotly                             5.24.1\n",
            "plotnine                           0.14.5\n",
            "pluggy                             1.5.0\n",
            "ply                                3.11\n",
            "polars                             1.21.0\n",
            "pooch                              1.8.2\n",
            "portpicker                         1.5.2\n",
            "preshed                            3.0.9\n",
            "prettytable                        3.15.1\n",
            "proglog                            0.1.10\n",
            "progressbar2                       4.5.0\n",
            "prometheus_client                  0.21.1\n",
            "promise                            2.3\n",
            "prompt_toolkit                     3.0.50\n",
            "propcache                          0.3.0\n",
            "prophet                            1.1.6\n",
            "proto-plus                         1.26.0\n",
            "protobuf                           4.25.6\n",
            "psutil                             5.9.5\n",
            "psycopg2                           2.9.10\n",
            "ptyprocess                         0.7.0\n",
            "py-cpuinfo                         9.0.0\n",
            "py4j                               0.10.9.7\n",
            "pyarrow                            18.1.0\n",
            "pyasn1                             0.6.1\n",
            "pyasn1_modules                     0.4.1\n",
            "pycocotools                        2.0.8\n",
            "pycparser                          2.22\n",
            "pydantic                           2.10.6\n",
            "pydantic_core                      2.27.2\n",
            "pydata-google-auth                 1.9.1\n",
            "pydot                              3.0.4\n",
            "pydotplus                          2.0.2\n",
            "PyDrive                            1.3.1\n",
            "PyDrive2                           1.21.3\n",
            "pyerfa                             2.0.1.5\n",
            "pygame                             2.6.1\n",
            "pygit2                             1.17.0\n",
            "Pygments                           2.18.0\n",
            "PyGObject                          3.42.1\n",
            "PyJWT                              2.10.1\n",
            "pylibcudf-cu12                     25.2.1\n",
            "pylibcugraph-cu12                  25.2.0\n",
            "pylibraft-cu12                     25.2.0\n",
            "pymc                               5.20.1\n",
            "pymystem3                          0.2.0\n",
            "pynndescent                        0.5.13\n",
            "pynvjitlink-cu12                   0.5.1\n",
            "pynvml                             12.0.0\n",
            "pyogrio                            0.10.0\n",
            "Pyomo                              6.8.2\n",
            "PyOpenGL                           3.1.9\n",
            "pyOpenSSL                          24.2.1\n",
            "pyparsing                          3.2.1\n",
            "pyperclip                          1.9.0\n",
            "pyproj                             3.7.1\n",
            "pyshp                              2.3.1\n",
            "PySocks                            1.7.1\n",
            "pyspark                            3.5.5\n",
            "pytensor                           2.27.1\n",
            "pytest                             8.3.5\n",
            "python-apt                         0.0.0\n",
            "python-box                         7.3.2\n",
            "python-dateutil                    2.8.2\n",
            "python-louvain                     0.16\n",
            "python-slugify                     8.0.4\n",
            "python-snappy                      0.7.3\n",
            "python-utils                       3.9.1\n",
            "pytz                               2025.1\n",
            "pyviz_comms                        3.0.4\n",
            "PyYAML                             6.0.2\n",
            "pyzmq                              24.0.1\n",
            "qdldl                              0.1.7.post5\n",
            "raft-dask-cu12                     25.2.0\n",
            "rapids-dask-dependency             25.2.0\n",
            "ratelim                            0.1.6\n",
            "referencing                        0.36.2\n",
            "regex                              2024.11.6\n",
            "requests                           2.32.3\n",
            "requests-oauthlib                  2.0.0\n",
            "requests-toolbelt                  1.0.0\n",
            "requirements-parser                0.9.0\n",
            "rich                               13.9.4\n",
            "rmm-cu12                           25.2.0\n",
            "rpds-py                            0.23.1\n",
            "rpy2                               3.5.17\n",
            "rsa                                4.9\n",
            "safetensors                        0.5.3\n",
            "scikit-image                       0.25.2\n",
            "scikit-learn                       1.6.1\n",
            "scipy                              1.14.1\n",
            "scooby                             0.10.0\n",
            "scs                                3.2.7.post2\n",
            "seaborn                            0.13.2\n",
            "SecretStorage                      3.3.1\n",
            "Send2Trash                         1.8.3\n",
            "sentence-transformers              3.4.1\n",
            "sentencepiece                      0.2.0\n",
            "sentry-sdk                         2.22.0\n",
            "setproctitle                       1.3.5\n",
            "setuptools                         75.1.0\n",
            "shap                               0.46.0\n",
            "shapely                            2.0.7\n",
            "shellingham                        1.5.4\n",
            "simple-parsing                     0.1.7\n",
            "simplejson                         3.20.1\n",
            "simsimd                            6.2.1\n",
            "six                                1.17.0\n",
            "sklearn-compat                     0.1.3\n",
            "sklearn-pandas                     2.2.0\n",
            "slicer                             0.0.8\n",
            "smart-open                         7.1.0\n",
            "smmap                              5.0.2\n",
            "sniffio                            1.3.1\n",
            "snowballstemmer                    2.2.0\n",
            "sortedcontainers                   2.4.0\n",
            "soundfile                          0.13.1\n",
            "soupsieve                          2.6\n",
            "soxr                               0.5.0.post1\n",
            "spacy                              3.7.5\n",
            "spacy-legacy                       3.0.12\n",
            "spacy-loggers                      1.0.5\n",
            "spanner-graph-notebook             1.1.2\n",
            "Sphinx                             8.1.3\n",
            "sphinxcontrib-applehelp            2.0.0\n",
            "sphinxcontrib-devhelp              2.0.0\n",
            "sphinxcontrib-htmlhelp             2.1.0\n",
            "sphinxcontrib-jsmath               1.0.1\n",
            "sphinxcontrib-qthelp               2.0.0\n",
            "sphinxcontrib-serializinghtml      2.0.0\n",
            "SQLAlchemy                         2.0.38\n",
            "sqlglot                            25.6.1\n",
            "sqlparse                           0.5.3\n",
            "srsly                              2.5.1\n",
            "stanio                             0.5.1\n",
            "statsmodels                        0.14.4\n",
            "stringzilla                        3.12.2\n",
            "sympy                              1.13.1\n",
            "tables                             3.10.2\n",
            "tabulate                           0.9.0\n",
            "tbb                                2022.0.0\n",
            "tblib                              3.0.0\n",
            "tcmlib                             1.2.0\n",
            "tenacity                           9.0.0\n",
            "tensorboard                        2.18.0\n",
            "tensorboard-data-server            0.7.2\n",
            "tensorflow                         2.18.0\n",
            "tensorflow-datasets                4.9.7\n",
            "tensorflow-hub                     0.16.1\n",
            "tensorflow-io-gcs-filesystem       0.37.1\n",
            "tensorflow-metadata                1.16.1\n",
            "tensorflow-probability             0.25.0\n",
            "tensorflow-text                    2.18.1\n",
            "tensorstore                        0.1.72\n",
            "termcolor                          2.5.0\n",
            "terminado                          0.18.1\n",
            "text-unidecode                     1.3\n",
            "textblob                           0.19.0\n",
            "tf_keras                           2.18.0\n",
            "tf-slim                            1.1.0\n",
            "thinc                              8.2.5\n",
            "threadpoolctl                      3.5.0\n",
            "tifffile                           2025.2.18\n",
            "timm                               1.0.15\n",
            "tinycss2                           1.4.0\n",
            "tokenizers                         0.21.0\n",
            "toml                               0.10.2\n",
            "toolz                              0.12.1\n",
            "torch                              2.5.1+cu124\n",
            "torchaudio                         2.5.1+cu124\n",
            "torchsummary                       1.5.1\n",
            "torchvision                        0.20.1+cu124\n",
            "tornado                            6.4.2\n",
            "tqdm                               4.67.1\n",
            "traitlets                          5.7.1\n",
            "traittypes                         0.2.1\n",
            "transformers                       4.48.3\n",
            "treelite                           4.4.1\n",
            "treescope                          0.1.9\n",
            "triton                             3.1.0\n",
            "tweepy                             4.15.0\n",
            "typeguard                          4.4.2\n",
            "typer                              0.15.2\n",
            "types-pytz                         2025.1.0.20250204\n",
            "types-setuptools                   75.8.2.20250305\n",
            "typing_extensions                  4.12.2\n",
            "tzdata                             2025.1\n",
            "tzlocal                            5.3.1\n",
            "uc-micro-py                        1.0.3\n",
            "ucx-py-cu12                        0.42.0\n",
            "ucxx-cu12                          0.42.0\n",
            "umap-learn                         0.5.7\n",
            "umf                                0.9.1\n",
            "uritemplate                        4.1.1\n",
            "urllib3                            2.3.0\n",
            "vega-datasets                      0.9.0\n",
            "wadllib                            1.3.6\n",
            "wandb                              0.19.8\n",
            "wasabi                             1.1.3\n",
            "wcwidth                            0.2.13\n",
            "weasel                             0.4.1\n",
            "webcolors                          24.11.1\n",
            "webencodings                       0.5.1\n",
            "websocket-client                   1.8.0\n",
            "websockets                         14.2\n",
            "Werkzeug                           3.1.3\n",
            "wheel                              0.45.1\n",
            "widgetsnbextension                 3.6.10\n",
            "wordcloud                          1.9.4\n",
            "wrapt                              1.17.2\n",
            "xarray                             2025.1.2\n",
            "xarray-einstats                    0.8.0\n",
            "xgboost                            2.1.4\n",
            "xlrd                               2.0.1\n",
            "xyzservices                        2025.1.0\n",
            "yarl                               1.18.3\n",
            "yellowbrick                        1.5\n",
            "yfinance                           0.2.54\n",
            "zict                               3.0.0\n",
            "zipp                               3.21.0\n",
            "zstandard                          0.23.0\n"
          ]
        }
      ]
    },
    {
      "cell_type": "markdown",
      "source": [
        "Carga de archivos, Drive o local temporal"
      ],
      "metadata": {
        "id": "sGUxJa0L_ebH"
      }
    },
    {
      "cell_type": "code",
      "source": [
        "from google.colab import drive\n",
        "drive.mount('/content/drive')"
      ],
      "metadata": {
        "id": "OKC7TaiO_AFg",
        "colab": {
          "base_uri": "https://localhost:8080/"
        },
        "outputId": "916bd66b-c8f3-422f-8a89-c0a1c9df9c55"
      },
      "execution_count": null,
      "outputs": [
        {
          "output_type": "stream",
          "name": "stdout",
          "text": [
            "Mounted at /content/drive\n"
          ]
        }
      ]
    },
    {
      "cell_type": "code",
      "source": [
        "import pandas as pd"
      ],
      "metadata": {
        "id": "BQwiPYY0_lmx"
      },
      "execution_count": null,
      "outputs": []
    },
    {
      "cell_type": "code",
      "source": [
        "datos = pd.read_excel('/content/drive/MyDrive/Cruso-ApsFinancieras/semana1/lending_clubFull_Data_Set.xlsx', index_col=0)"
      ],
      "metadata": {
        "id": "3H3En-jV_mxi"
      },
      "execution_count": null,
      "outputs": []
    },
    {
      "cell_type": "code",
      "source": [
        "print(datos)"
      ],
      "metadata": {
        "id": "dKhOL1m7_mvh",
        "colab": {
          "base_uri": "https://localhost:8080/"
        },
        "outputId": "e52944cc-c56c-4b97-baea-b8cb24162a63"
      },
      "execution_count": null,
      "outputs": [
        {
          "output_type": "stream",
          "name": "stdout",
          "text": [
            "            id  member_id  loan_amnt        term  int_rate  installment grade  \\\n",
            "0       263591     545710    20000.0   60 months     17.93       342.94     E   \n",
            "1      1613916   69664096    30000.0   36 months     11.99       996.29     C   \n",
            "2       818934    8965180    21500.0   36 months     11.99       714.01     B   \n",
            "3      1606612   70572960    10000.0   36 months     13.67       340.18     C   \n",
            "4      1639932   68589517     5000.0   36 months      8.49       157.82     B   \n",
            "...        ...        ...        ...         ...       ...          ...   ...   \n",
            "24995   901888    4974773    10500.0   36 months     10.16       339.60     B   \n",
            "24996   945413    1279809    12000.0   36 months     14.33       412.06     C   \n",
            "24997   366944   63496281    25000.0   36 months     12.69       838.63     C   \n",
            "24998  1043529   98124387    12200.0   60 months     13.49       280.66     C   \n",
            "24999  1239942  115704642     5000.0   36 months     19.03       183.36     D   \n",
            "\n",
            "      sub_grade                     emp_title emp_length  ...  \\\n",
            "0            E5                     Wylie ISD     1 year  ...   \n",
            "1            C1                      Sergeant  10+ years  ...   \n",
            "2            B3                      Designer     1 year  ...   \n",
            "3            C3                           NaN        NaN  ...   \n",
            "4            B1    Sr. Manufacturing Engineer  10+ years  ...   \n",
            "...         ...                           ...        ...  ...   \n",
            "24995        B1            Schneider Electric    5 years  ...   \n",
            "24996        C1  Clark County School District  10+ years  ...   \n",
            "24997        C2              sales consultant   < 1 year  ...   \n",
            "24998        C2                           NaN        NaN  ...   \n",
            "24999        D3                 Web Developer    6 years  ...   \n",
            "\n",
            "      hardship_loan_status  orig_projected_additional_accrued_interest  \\\n",
            "0                      NaN                                         NaN   \n",
            "1                      NaN                                         NaN   \n",
            "2                      NaN                                         NaN   \n",
            "3                      NaN                                         NaN   \n",
            "4                      NaN                                         NaN   \n",
            "...                    ...                                         ...   \n",
            "24995                  NaN                                         NaN   \n",
            "24996                  NaN                                         NaN   \n",
            "24997                  NaN                                         NaN   \n",
            "24998                  NaN                                         NaN   \n",
            "24999                  NaN                                         NaN   \n",
            "\n",
            "      hardship_payoff_balance_amount hardship_last_payment_amount  \\\n",
            "0                                NaN                          NaN   \n",
            "1                                NaN                          NaN   \n",
            "2                                NaN                          NaN   \n",
            "3                                NaN                          NaN   \n",
            "4                                NaN                          NaN   \n",
            "...                              ...                          ...   \n",
            "24995                            NaN                          NaN   \n",
            "24996                            NaN                          NaN   \n",
            "24997                            NaN                          NaN   \n",
            "24998                            NaN                          NaN   \n",
            "24999                            NaN                          NaN   \n",
            "\n",
            "      debt_settlement_flag_date settlement_status settlement_date  \\\n",
            "0                           NaT               NaN             NaT   \n",
            "1                           NaT               NaN             NaT   \n",
            "2                           NaT               NaN             NaT   \n",
            "3                           NaT               NaN             NaT   \n",
            "4                           NaT               NaN             NaT   \n",
            "...                         ...               ...             ...   \n",
            "24995                       NaT               NaN             NaT   \n",
            "24996                       NaT               NaN             NaT   \n",
            "24997                       NaT               NaN             NaT   \n",
            "24998                       NaT               NaN             NaT   \n",
            "24999                       NaT               NaN             NaT   \n",
            "\n",
            "      settlement_amount settlement_percentage settlement_term  \n",
            "0                   NaN                   NaN             NaN  \n",
            "1                   NaN                   NaN             NaN  \n",
            "2                   NaN                   NaN             NaN  \n",
            "3                   NaN                   NaN             NaN  \n",
            "4                   NaN                   NaN             NaN  \n",
            "...                 ...                   ...             ...  \n",
            "24995               NaN                   NaN             NaN  \n",
            "24996               NaN                   NaN             NaN  \n",
            "24997               NaN                   NaN             NaN  \n",
            "24998               NaN                   NaN             NaN  \n",
            "24999               NaN                   NaN             NaN  \n",
            "\n",
            "[25000 rows x 134 columns]\n"
          ]
        }
      ]
    },
    {
      "cell_type": "code",
      "source": [
        "datos"
      ],
      "metadata": {
        "id": "gxBm6RpA_mtJ",
        "colab": {
          "base_uri": "https://localhost:8080/",
          "height": 652
        },
        "outputId": "d24b5bb0-b856-4208-bd7b-62524910a2e7"
      },
      "execution_count": null,
      "outputs": [
        {
          "output_type": "execute_result",
          "data": {
            "text/plain": [
              "            id  member_id  loan_amnt        term  int_rate  installment grade  \\\n",
              "0       263591     545710    20000.0   60 months     17.93       342.94     E   \n",
              "1      1613916   69664096    30000.0   36 months     11.99       996.29     C   \n",
              "2       818934    8965180    21500.0   36 months     11.99       714.01     B   \n",
              "3      1606612   70572960    10000.0   36 months     13.67       340.18     C   \n",
              "4      1639932   68589517     5000.0   36 months      8.49       157.82     B   \n",
              "...        ...        ...        ...         ...       ...          ...   ...   \n",
              "24995   901888    4974773    10500.0   36 months     10.16       339.60     B   \n",
              "24996   945413    1279809    12000.0   36 months     14.33       412.06     C   \n",
              "24997   366944   63496281    25000.0   36 months     12.69       838.63     C   \n",
              "24998  1043529   98124387    12200.0   60 months     13.49       280.66     C   \n",
              "24999  1239942  115704642     5000.0   36 months     19.03       183.36     D   \n",
              "\n",
              "      sub_grade                     emp_title emp_length  ...  \\\n",
              "0            E5                     Wylie ISD     1 year  ...   \n",
              "1            C1                      Sergeant  10+ years  ...   \n",
              "2            B3                      Designer     1 year  ...   \n",
              "3            C3                           NaN        NaN  ...   \n",
              "4            B1    Sr. Manufacturing Engineer  10+ years  ...   \n",
              "...         ...                           ...        ...  ...   \n",
              "24995        B1            Schneider Electric    5 years  ...   \n",
              "24996        C1  Clark County School District  10+ years  ...   \n",
              "24997        C2              sales consultant   < 1 year  ...   \n",
              "24998        C2                           NaN        NaN  ...   \n",
              "24999        D3                 Web Developer    6 years  ...   \n",
              "\n",
              "      hardship_loan_status  orig_projected_additional_accrued_interest  \\\n",
              "0                      NaN                                         NaN   \n",
              "1                      NaN                                         NaN   \n",
              "2                      NaN                                         NaN   \n",
              "3                      NaN                                         NaN   \n",
              "4                      NaN                                         NaN   \n",
              "...                    ...                                         ...   \n",
              "24995                  NaN                                         NaN   \n",
              "24996                  NaN                                         NaN   \n",
              "24997                  NaN                                         NaN   \n",
              "24998                  NaN                                         NaN   \n",
              "24999                  NaN                                         NaN   \n",
              "\n",
              "      hardship_payoff_balance_amount hardship_last_payment_amount  \\\n",
              "0                                NaN                          NaN   \n",
              "1                                NaN                          NaN   \n",
              "2                                NaN                          NaN   \n",
              "3                                NaN                          NaN   \n",
              "4                                NaN                          NaN   \n",
              "...                              ...                          ...   \n",
              "24995                            NaN                          NaN   \n",
              "24996                            NaN                          NaN   \n",
              "24997                            NaN                          NaN   \n",
              "24998                            NaN                          NaN   \n",
              "24999                            NaN                          NaN   \n",
              "\n",
              "      debt_settlement_flag_date settlement_status settlement_date  \\\n",
              "0                           NaT               NaN             NaT   \n",
              "1                           NaT               NaN             NaT   \n",
              "2                           NaT               NaN             NaT   \n",
              "3                           NaT               NaN             NaT   \n",
              "4                           NaT               NaN             NaT   \n",
              "...                         ...               ...             ...   \n",
              "24995                       NaT               NaN             NaT   \n",
              "24996                       NaT               NaN             NaT   \n",
              "24997                       NaT               NaN             NaT   \n",
              "24998                       NaT               NaN             NaT   \n",
              "24999                       NaT               NaN             NaT   \n",
              "\n",
              "      settlement_amount settlement_percentage settlement_term  \n",
              "0                   NaN                   NaN             NaN  \n",
              "1                   NaN                   NaN             NaN  \n",
              "2                   NaN                   NaN             NaN  \n",
              "3                   NaN                   NaN             NaN  \n",
              "4                   NaN                   NaN             NaN  \n",
              "...                 ...                   ...             ...  \n",
              "24995               NaN                   NaN             NaN  \n",
              "24996               NaN                   NaN             NaN  \n",
              "24997               NaN                   NaN             NaN  \n",
              "24998               NaN                   NaN             NaN  \n",
              "24999               NaN                   NaN             NaN  \n",
              "\n",
              "[25000 rows x 134 columns]"
            ],
            "text/html": [
              "\n",
              "  <div id=\"df-f43870a2-7ceb-4147-b2b4-2aea752c1b59\" class=\"colab-df-container\">\n",
              "    <div>\n",
              "<style scoped>\n",
              "    .dataframe tbody tr th:only-of-type {\n",
              "        vertical-align: middle;\n",
              "    }\n",
              "\n",
              "    .dataframe tbody tr th {\n",
              "        vertical-align: top;\n",
              "    }\n",
              "\n",
              "    .dataframe thead th {\n",
              "        text-align: right;\n",
              "    }\n",
              "</style>\n",
              "<table border=\"1\" class=\"dataframe\">\n",
              "  <thead>\n",
              "    <tr style=\"text-align: right;\">\n",
              "      <th></th>\n",
              "      <th>id</th>\n",
              "      <th>member_id</th>\n",
              "      <th>loan_amnt</th>\n",
              "      <th>term</th>\n",
              "      <th>int_rate</th>\n",
              "      <th>installment</th>\n",
              "      <th>grade</th>\n",
              "      <th>sub_grade</th>\n",
              "      <th>emp_title</th>\n",
              "      <th>emp_length</th>\n",
              "      <th>...</th>\n",
              "      <th>hardship_loan_status</th>\n",
              "      <th>orig_projected_additional_accrued_interest</th>\n",
              "      <th>hardship_payoff_balance_amount</th>\n",
              "      <th>hardship_last_payment_amount</th>\n",
              "      <th>debt_settlement_flag_date</th>\n",
              "      <th>settlement_status</th>\n",
              "      <th>settlement_date</th>\n",
              "      <th>settlement_amount</th>\n",
              "      <th>settlement_percentage</th>\n",
              "      <th>settlement_term</th>\n",
              "    </tr>\n",
              "  </thead>\n",
              "  <tbody>\n",
              "    <tr>\n",
              "      <th>0</th>\n",
              "      <td>263591</td>\n",
              "      <td>545710</td>\n",
              "      <td>20000.0</td>\n",
              "      <td>60 months</td>\n",
              "      <td>17.93</td>\n",
              "      <td>342.94</td>\n",
              "      <td>E</td>\n",
              "      <td>E5</td>\n",
              "      <td>Wylie ISD</td>\n",
              "      <td>1 year</td>\n",
              "      <td>...</td>\n",
              "      <td>NaN</td>\n",
              "      <td>NaN</td>\n",
              "      <td>NaN</td>\n",
              "      <td>NaN</td>\n",
              "      <td>NaT</td>\n",
              "      <td>NaN</td>\n",
              "      <td>NaT</td>\n",
              "      <td>NaN</td>\n",
              "      <td>NaN</td>\n",
              "      <td>NaN</td>\n",
              "    </tr>\n",
              "    <tr>\n",
              "      <th>1</th>\n",
              "      <td>1613916</td>\n",
              "      <td>69664096</td>\n",
              "      <td>30000.0</td>\n",
              "      <td>36 months</td>\n",
              "      <td>11.99</td>\n",
              "      <td>996.29</td>\n",
              "      <td>C</td>\n",
              "      <td>C1</td>\n",
              "      <td>Sergeant</td>\n",
              "      <td>10+ years</td>\n",
              "      <td>...</td>\n",
              "      <td>NaN</td>\n",
              "      <td>NaN</td>\n",
              "      <td>NaN</td>\n",
              "      <td>NaN</td>\n",
              "      <td>NaT</td>\n",
              "      <td>NaN</td>\n",
              "      <td>NaT</td>\n",
              "      <td>NaN</td>\n",
              "      <td>NaN</td>\n",
              "      <td>NaN</td>\n",
              "    </tr>\n",
              "    <tr>\n",
              "      <th>2</th>\n",
              "      <td>818934</td>\n",
              "      <td>8965180</td>\n",
              "      <td>21500.0</td>\n",
              "      <td>36 months</td>\n",
              "      <td>11.99</td>\n",
              "      <td>714.01</td>\n",
              "      <td>B</td>\n",
              "      <td>B3</td>\n",
              "      <td>Designer</td>\n",
              "      <td>1 year</td>\n",
              "      <td>...</td>\n",
              "      <td>NaN</td>\n",
              "      <td>NaN</td>\n",
              "      <td>NaN</td>\n",
              "      <td>NaN</td>\n",
              "      <td>NaT</td>\n",
              "      <td>NaN</td>\n",
              "      <td>NaT</td>\n",
              "      <td>NaN</td>\n",
              "      <td>NaN</td>\n",
              "      <td>NaN</td>\n",
              "    </tr>\n",
              "    <tr>\n",
              "      <th>3</th>\n",
              "      <td>1606612</td>\n",
              "      <td>70572960</td>\n",
              "      <td>10000.0</td>\n",
              "      <td>36 months</td>\n",
              "      <td>13.67</td>\n",
              "      <td>340.18</td>\n",
              "      <td>C</td>\n",
              "      <td>C3</td>\n",
              "      <td>NaN</td>\n",
              "      <td>NaN</td>\n",
              "      <td>...</td>\n",
              "      <td>NaN</td>\n",
              "      <td>NaN</td>\n",
              "      <td>NaN</td>\n",
              "      <td>NaN</td>\n",
              "      <td>NaT</td>\n",
              "      <td>NaN</td>\n",
              "      <td>NaT</td>\n",
              "      <td>NaN</td>\n",
              "      <td>NaN</td>\n",
              "      <td>NaN</td>\n",
              "    </tr>\n",
              "    <tr>\n",
              "      <th>4</th>\n",
              "      <td>1639932</td>\n",
              "      <td>68589517</td>\n",
              "      <td>5000.0</td>\n",
              "      <td>36 months</td>\n",
              "      <td>8.49</td>\n",
              "      <td>157.82</td>\n",
              "      <td>B</td>\n",
              "      <td>B1</td>\n",
              "      <td>Sr. Manufacturing Engineer</td>\n",
              "      <td>10+ years</td>\n",
              "      <td>...</td>\n",
              "      <td>NaN</td>\n",
              "      <td>NaN</td>\n",
              "      <td>NaN</td>\n",
              "      <td>NaN</td>\n",
              "      <td>NaT</td>\n",
              "      <td>NaN</td>\n",
              "      <td>NaT</td>\n",
              "      <td>NaN</td>\n",
              "      <td>NaN</td>\n",
              "      <td>NaN</td>\n",
              "    </tr>\n",
              "    <tr>\n",
              "      <th>...</th>\n",
              "      <td>...</td>\n",
              "      <td>...</td>\n",
              "      <td>...</td>\n",
              "      <td>...</td>\n",
              "      <td>...</td>\n",
              "      <td>...</td>\n",
              "      <td>...</td>\n",
              "      <td>...</td>\n",
              "      <td>...</td>\n",
              "      <td>...</td>\n",
              "      <td>...</td>\n",
              "      <td>...</td>\n",
              "      <td>...</td>\n",
              "      <td>...</td>\n",
              "      <td>...</td>\n",
              "      <td>...</td>\n",
              "      <td>...</td>\n",
              "      <td>...</td>\n",
              "      <td>...</td>\n",
              "      <td>...</td>\n",
              "      <td>...</td>\n",
              "    </tr>\n",
              "    <tr>\n",
              "      <th>24995</th>\n",
              "      <td>901888</td>\n",
              "      <td>4974773</td>\n",
              "      <td>10500.0</td>\n",
              "      <td>36 months</td>\n",
              "      <td>10.16</td>\n",
              "      <td>339.60</td>\n",
              "      <td>B</td>\n",
              "      <td>B1</td>\n",
              "      <td>Schneider Electric</td>\n",
              "      <td>5 years</td>\n",
              "      <td>...</td>\n",
              "      <td>NaN</td>\n",
              "      <td>NaN</td>\n",
              "      <td>NaN</td>\n",
              "      <td>NaN</td>\n",
              "      <td>NaT</td>\n",
              "      <td>NaN</td>\n",
              "      <td>NaT</td>\n",
              "      <td>NaN</td>\n",
              "      <td>NaN</td>\n",
              "      <td>NaN</td>\n",
              "    </tr>\n",
              "    <tr>\n",
              "      <th>24996</th>\n",
              "      <td>945413</td>\n",
              "      <td>1279809</td>\n",
              "      <td>12000.0</td>\n",
              "      <td>36 months</td>\n",
              "      <td>14.33</td>\n",
              "      <td>412.06</td>\n",
              "      <td>C</td>\n",
              "      <td>C1</td>\n",
              "      <td>Clark County School District</td>\n",
              "      <td>10+ years</td>\n",
              "      <td>...</td>\n",
              "      <td>NaN</td>\n",
              "      <td>NaN</td>\n",
              "      <td>NaN</td>\n",
              "      <td>NaN</td>\n",
              "      <td>NaT</td>\n",
              "      <td>NaN</td>\n",
              "      <td>NaT</td>\n",
              "      <td>NaN</td>\n",
              "      <td>NaN</td>\n",
              "      <td>NaN</td>\n",
              "    </tr>\n",
              "    <tr>\n",
              "      <th>24997</th>\n",
              "      <td>366944</td>\n",
              "      <td>63496281</td>\n",
              "      <td>25000.0</td>\n",
              "      <td>36 months</td>\n",
              "      <td>12.69</td>\n",
              "      <td>838.63</td>\n",
              "      <td>C</td>\n",
              "      <td>C2</td>\n",
              "      <td>sales consultant</td>\n",
              "      <td>&lt; 1 year</td>\n",
              "      <td>...</td>\n",
              "      <td>NaN</td>\n",
              "      <td>NaN</td>\n",
              "      <td>NaN</td>\n",
              "      <td>NaN</td>\n",
              "      <td>NaT</td>\n",
              "      <td>NaN</td>\n",
              "      <td>NaT</td>\n",
              "      <td>NaN</td>\n",
              "      <td>NaN</td>\n",
              "      <td>NaN</td>\n",
              "    </tr>\n",
              "    <tr>\n",
              "      <th>24998</th>\n",
              "      <td>1043529</td>\n",
              "      <td>98124387</td>\n",
              "      <td>12200.0</td>\n",
              "      <td>60 months</td>\n",
              "      <td>13.49</td>\n",
              "      <td>280.66</td>\n",
              "      <td>C</td>\n",
              "      <td>C2</td>\n",
              "      <td>NaN</td>\n",
              "      <td>NaN</td>\n",
              "      <td>...</td>\n",
              "      <td>NaN</td>\n",
              "      <td>NaN</td>\n",
              "      <td>NaN</td>\n",
              "      <td>NaN</td>\n",
              "      <td>NaT</td>\n",
              "      <td>NaN</td>\n",
              "      <td>NaT</td>\n",
              "      <td>NaN</td>\n",
              "      <td>NaN</td>\n",
              "      <td>NaN</td>\n",
              "    </tr>\n",
              "    <tr>\n",
              "      <th>24999</th>\n",
              "      <td>1239942</td>\n",
              "      <td>115704642</td>\n",
              "      <td>5000.0</td>\n",
              "      <td>36 months</td>\n",
              "      <td>19.03</td>\n",
              "      <td>183.36</td>\n",
              "      <td>D</td>\n",
              "      <td>D3</td>\n",
              "      <td>Web Developer</td>\n",
              "      <td>6 years</td>\n",
              "      <td>...</td>\n",
              "      <td>NaN</td>\n",
              "      <td>NaN</td>\n",
              "      <td>NaN</td>\n",
              "      <td>NaN</td>\n",
              "      <td>NaT</td>\n",
              "      <td>NaN</td>\n",
              "      <td>NaT</td>\n",
              "      <td>NaN</td>\n",
              "      <td>NaN</td>\n",
              "      <td>NaN</td>\n",
              "    </tr>\n",
              "  </tbody>\n",
              "</table>\n",
              "<p>25000 rows × 134 columns</p>\n",
              "</div>\n",
              "    <div class=\"colab-df-buttons\">\n",
              "\n",
              "  <div class=\"colab-df-container\">\n",
              "    <button class=\"colab-df-convert\" onclick=\"convertToInteractive('df-f43870a2-7ceb-4147-b2b4-2aea752c1b59')\"\n",
              "            title=\"Convert this dataframe to an interactive table.\"\n",
              "            style=\"display:none;\">\n",
              "\n",
              "  <svg xmlns=\"http://www.w3.org/2000/svg\" height=\"24px\" viewBox=\"0 -960 960 960\">\n",
              "    <path d=\"M120-120v-720h720v720H120Zm60-500h600v-160H180v160Zm220 220h160v-160H400v160Zm0 220h160v-160H400v160ZM180-400h160v-160H180v160Zm440 0h160v-160H620v160ZM180-180h160v-160H180v160Zm440 0h160v-160H620v160Z\"/>\n",
              "  </svg>\n",
              "    </button>\n",
              "\n",
              "  <style>\n",
              "    .colab-df-container {\n",
              "      display:flex;\n",
              "      gap: 12px;\n",
              "    }\n",
              "\n",
              "    .colab-df-convert {\n",
              "      background-color: #E8F0FE;\n",
              "      border: none;\n",
              "      border-radius: 50%;\n",
              "      cursor: pointer;\n",
              "      display: none;\n",
              "      fill: #1967D2;\n",
              "      height: 32px;\n",
              "      padding: 0 0 0 0;\n",
              "      width: 32px;\n",
              "    }\n",
              "\n",
              "    .colab-df-convert:hover {\n",
              "      background-color: #E2EBFA;\n",
              "      box-shadow: 0px 1px 2px rgba(60, 64, 67, 0.3), 0px 1px 3px 1px rgba(60, 64, 67, 0.15);\n",
              "      fill: #174EA6;\n",
              "    }\n",
              "\n",
              "    .colab-df-buttons div {\n",
              "      margin-bottom: 4px;\n",
              "    }\n",
              "\n",
              "    [theme=dark] .colab-df-convert {\n",
              "      background-color: #3B4455;\n",
              "      fill: #D2E3FC;\n",
              "    }\n",
              "\n",
              "    [theme=dark] .colab-df-convert:hover {\n",
              "      background-color: #434B5C;\n",
              "      box-shadow: 0px 1px 3px 1px rgba(0, 0, 0, 0.15);\n",
              "      filter: drop-shadow(0px 1px 2px rgba(0, 0, 0, 0.3));\n",
              "      fill: #FFFFFF;\n",
              "    }\n",
              "  </style>\n",
              "\n",
              "    <script>\n",
              "      const buttonEl =\n",
              "        document.querySelector('#df-f43870a2-7ceb-4147-b2b4-2aea752c1b59 button.colab-df-convert');\n",
              "      buttonEl.style.display =\n",
              "        google.colab.kernel.accessAllowed ? 'block' : 'none';\n",
              "\n",
              "      async function convertToInteractive(key) {\n",
              "        const element = document.querySelector('#df-f43870a2-7ceb-4147-b2b4-2aea752c1b59');\n",
              "        const dataTable =\n",
              "          await google.colab.kernel.invokeFunction('convertToInteractive',\n",
              "                                                    [key], {});\n",
              "        if (!dataTable) return;\n",
              "\n",
              "        const docLinkHtml = 'Like what you see? Visit the ' +\n",
              "          '<a target=\"_blank\" href=https://colab.research.google.com/notebooks/data_table.ipynb>data table notebook</a>'\n",
              "          + ' to learn more about interactive tables.';\n",
              "        element.innerHTML = '';\n",
              "        dataTable['output_type'] = 'display_data';\n",
              "        await google.colab.output.renderOutput(dataTable, element);\n",
              "        const docLink = document.createElement('div');\n",
              "        docLink.innerHTML = docLinkHtml;\n",
              "        element.appendChild(docLink);\n",
              "      }\n",
              "    </script>\n",
              "  </div>\n",
              "\n",
              "\n",
              "<div id=\"df-b742394f-d431-4a2c-8e9a-c2bd74e666c3\">\n",
              "  <button class=\"colab-df-quickchart\" onclick=\"quickchart('df-b742394f-d431-4a2c-8e9a-c2bd74e666c3')\"\n",
              "            title=\"Suggest charts\"\n",
              "            style=\"display:none;\">\n",
              "\n",
              "<svg xmlns=\"http://www.w3.org/2000/svg\" height=\"24px\"viewBox=\"0 0 24 24\"\n",
              "     width=\"24px\">\n",
              "    <g>\n",
              "        <path d=\"M19 3H5c-1.1 0-2 .9-2 2v14c0 1.1.9 2 2 2h14c1.1 0 2-.9 2-2V5c0-1.1-.9-2-2-2zM9 17H7v-7h2v7zm4 0h-2V7h2v10zm4 0h-2v-4h2v4z\"/>\n",
              "    </g>\n",
              "</svg>\n",
              "  </button>\n",
              "\n",
              "<style>\n",
              "  .colab-df-quickchart {\n",
              "      --bg-color: #E8F0FE;\n",
              "      --fill-color: #1967D2;\n",
              "      --hover-bg-color: #E2EBFA;\n",
              "      --hover-fill-color: #174EA6;\n",
              "      --disabled-fill-color: #AAA;\n",
              "      --disabled-bg-color: #DDD;\n",
              "  }\n",
              "\n",
              "  [theme=dark] .colab-df-quickchart {\n",
              "      --bg-color: #3B4455;\n",
              "      --fill-color: #D2E3FC;\n",
              "      --hover-bg-color: #434B5C;\n",
              "      --hover-fill-color: #FFFFFF;\n",
              "      --disabled-bg-color: #3B4455;\n",
              "      --disabled-fill-color: #666;\n",
              "  }\n",
              "\n",
              "  .colab-df-quickchart {\n",
              "    background-color: var(--bg-color);\n",
              "    border: none;\n",
              "    border-radius: 50%;\n",
              "    cursor: pointer;\n",
              "    display: none;\n",
              "    fill: var(--fill-color);\n",
              "    height: 32px;\n",
              "    padding: 0;\n",
              "    width: 32px;\n",
              "  }\n",
              "\n",
              "  .colab-df-quickchart:hover {\n",
              "    background-color: var(--hover-bg-color);\n",
              "    box-shadow: 0 1px 2px rgba(60, 64, 67, 0.3), 0 1px 3px 1px rgba(60, 64, 67, 0.15);\n",
              "    fill: var(--button-hover-fill-color);\n",
              "  }\n",
              "\n",
              "  .colab-df-quickchart-complete:disabled,\n",
              "  .colab-df-quickchart-complete:disabled:hover {\n",
              "    background-color: var(--disabled-bg-color);\n",
              "    fill: var(--disabled-fill-color);\n",
              "    box-shadow: none;\n",
              "  }\n",
              "\n",
              "  .colab-df-spinner {\n",
              "    border: 2px solid var(--fill-color);\n",
              "    border-color: transparent;\n",
              "    border-bottom-color: var(--fill-color);\n",
              "    animation:\n",
              "      spin 1s steps(1) infinite;\n",
              "  }\n",
              "\n",
              "  @keyframes spin {\n",
              "    0% {\n",
              "      border-color: transparent;\n",
              "      border-bottom-color: var(--fill-color);\n",
              "      border-left-color: var(--fill-color);\n",
              "    }\n",
              "    20% {\n",
              "      border-color: transparent;\n",
              "      border-left-color: var(--fill-color);\n",
              "      border-top-color: var(--fill-color);\n",
              "    }\n",
              "    30% {\n",
              "      border-color: transparent;\n",
              "      border-left-color: var(--fill-color);\n",
              "      border-top-color: var(--fill-color);\n",
              "      border-right-color: var(--fill-color);\n",
              "    }\n",
              "    40% {\n",
              "      border-color: transparent;\n",
              "      border-right-color: var(--fill-color);\n",
              "      border-top-color: var(--fill-color);\n",
              "    }\n",
              "    60% {\n",
              "      border-color: transparent;\n",
              "      border-right-color: var(--fill-color);\n",
              "    }\n",
              "    80% {\n",
              "      border-color: transparent;\n",
              "      border-right-color: var(--fill-color);\n",
              "      border-bottom-color: var(--fill-color);\n",
              "    }\n",
              "    90% {\n",
              "      border-color: transparent;\n",
              "      border-bottom-color: var(--fill-color);\n",
              "    }\n",
              "  }\n",
              "</style>\n",
              "\n",
              "  <script>\n",
              "    async function quickchart(key) {\n",
              "      const quickchartButtonEl =\n",
              "        document.querySelector('#' + key + ' button');\n",
              "      quickchartButtonEl.disabled = true;  // To prevent multiple clicks.\n",
              "      quickchartButtonEl.classList.add('colab-df-spinner');\n",
              "      try {\n",
              "        const charts = await google.colab.kernel.invokeFunction(\n",
              "            'suggestCharts', [key], {});\n",
              "      } catch (error) {\n",
              "        console.error('Error during call to suggestCharts:', error);\n",
              "      }\n",
              "      quickchartButtonEl.classList.remove('colab-df-spinner');\n",
              "      quickchartButtonEl.classList.add('colab-df-quickchart-complete');\n",
              "    }\n",
              "    (() => {\n",
              "      let quickchartButtonEl =\n",
              "        document.querySelector('#df-b742394f-d431-4a2c-8e9a-c2bd74e666c3 button');\n",
              "      quickchartButtonEl.style.display =\n",
              "        google.colab.kernel.accessAllowed ? 'block' : 'none';\n",
              "    })();\n",
              "  </script>\n",
              "</div>\n",
              "\n",
              "  <div id=\"id_55e14225-00c2-4942-8d24-09662236c500\">\n",
              "    <style>\n",
              "      .colab-df-generate {\n",
              "        background-color: #E8F0FE;\n",
              "        border: none;\n",
              "        border-radius: 50%;\n",
              "        cursor: pointer;\n",
              "        display: none;\n",
              "        fill: #1967D2;\n",
              "        height: 32px;\n",
              "        padding: 0 0 0 0;\n",
              "        width: 32px;\n",
              "      }\n",
              "\n",
              "      .colab-df-generate:hover {\n",
              "        background-color: #E2EBFA;\n",
              "        box-shadow: 0px 1px 2px rgba(60, 64, 67, 0.3), 0px 1px 3px 1px rgba(60, 64, 67, 0.15);\n",
              "        fill: #174EA6;\n",
              "      }\n",
              "\n",
              "      [theme=dark] .colab-df-generate {\n",
              "        background-color: #3B4455;\n",
              "        fill: #D2E3FC;\n",
              "      }\n",
              "\n",
              "      [theme=dark] .colab-df-generate:hover {\n",
              "        background-color: #434B5C;\n",
              "        box-shadow: 0px 1px 3px 1px rgba(0, 0, 0, 0.15);\n",
              "        filter: drop-shadow(0px 1px 2px rgba(0, 0, 0, 0.3));\n",
              "        fill: #FFFFFF;\n",
              "      }\n",
              "    </style>\n",
              "    <button class=\"colab-df-generate\" onclick=\"generateWithVariable('datos')\"\n",
              "            title=\"Generate code using this dataframe.\"\n",
              "            style=\"display:none;\">\n",
              "\n",
              "  <svg xmlns=\"http://www.w3.org/2000/svg\" height=\"24px\"viewBox=\"0 0 24 24\"\n",
              "       width=\"24px\">\n",
              "    <path d=\"M7,19H8.4L18.45,9,17,7.55,7,17.6ZM5,21V16.75L18.45,3.32a2,2,0,0,1,2.83,0l1.4,1.43a1.91,1.91,0,0,1,.58,1.4,1.91,1.91,0,0,1-.58,1.4L9.25,21ZM18.45,9,17,7.55Zm-12,3A5.31,5.31,0,0,0,4.9,8.1,5.31,5.31,0,0,0,1,6.5,5.31,5.31,0,0,0,4.9,4.9,5.31,5.31,0,0,0,6.5,1,5.31,5.31,0,0,0,8.1,4.9,5.31,5.31,0,0,0,12,6.5,5.46,5.46,0,0,0,6.5,12Z\"/>\n",
              "  </svg>\n",
              "    </button>\n",
              "    <script>\n",
              "      (() => {\n",
              "      const buttonEl =\n",
              "        document.querySelector('#id_55e14225-00c2-4942-8d24-09662236c500 button.colab-df-generate');\n",
              "      buttonEl.style.display =\n",
              "        google.colab.kernel.accessAllowed ? 'block' : 'none';\n",
              "\n",
              "      buttonEl.onclick = () => {\n",
              "        google.colab.notebook.generateWithVariable('datos');\n",
              "      }\n",
              "      })();\n",
              "    </script>\n",
              "  </div>\n",
              "\n",
              "    </div>\n",
              "  </div>\n"
            ],
            "application/vnd.google.colaboratory.intrinsic+json": {
              "type": "dataframe",
              "variable_name": "datos"
            }
          },
          "metadata": {},
          "execution_count": 7
        }
      ]
    },
    {
      "cell_type": "code",
      "source": [
        "datos.head(5)"
      ],
      "metadata": {
        "id": "8qPBbKfaA5rJ",
        "colab": {
          "base_uri": "https://localhost:8080/",
          "height": 359
        },
        "outputId": "39f9d6fe-a7e4-42fc-ad50-6d049247c555"
      },
      "execution_count": null,
      "outputs": [
        {
          "output_type": "execute_result",
          "data": {
            "text/plain": [
              "        id member_id  loan_amnt        term  int_rate  installment grade  \\\n",
              "0   263591    545710    20000.0   60 months     17.93       342.94     E   \n",
              "1  1613916  69664096    30000.0   36 months     11.99       996.29     C   \n",
              "2   818934   8965180    21500.0   36 months     11.99       714.01     B   \n",
              "3  1606612  70572960    10000.0   36 months     13.67       340.18     C   \n",
              "4  1639932  68589517     5000.0   36 months      8.49       157.82     B   \n",
              "\n",
              "  sub_grade                   emp_title emp_length  ... hardship_loan_status  \\\n",
              "0        E5                   Wylie ISD     1 year  ...                  NaN   \n",
              "1        C1                    Sergeant  10+ years  ...                  NaN   \n",
              "2        B3                    Designer     1 year  ...                  NaN   \n",
              "3        C3                         NaN        NaN  ...                  NaN   \n",
              "4        B1  Sr. Manufacturing Engineer  10+ years  ...                  NaN   \n",
              "\n",
              "   orig_projected_additional_accrued_interest hardship_payoff_balance_amount  \\\n",
              "0                                         NaN                            NaN   \n",
              "1                                         NaN                            NaN   \n",
              "2                                         NaN                            NaN   \n",
              "3                                         NaN                            NaN   \n",
              "4                                         NaN                            NaN   \n",
              "\n",
              "  hardship_last_payment_amount debt_settlement_flag_date settlement_status  \\\n",
              "0                          NaN                       NaT               NaN   \n",
              "1                          NaN                       NaT               NaN   \n",
              "2                          NaN                       NaT               NaN   \n",
              "3                          NaN                       NaT               NaN   \n",
              "4                          NaN                       NaT               NaN   \n",
              "\n",
              "  settlement_date settlement_amount settlement_percentage settlement_term  \n",
              "0             NaT               NaN                   NaN             NaN  \n",
              "1             NaT               NaN                   NaN             NaN  \n",
              "2             NaT               NaN                   NaN             NaN  \n",
              "3             NaT               NaN                   NaN             NaN  \n",
              "4             NaT               NaN                   NaN             NaN  \n",
              "\n",
              "[5 rows x 134 columns]"
            ],
            "text/html": [
              "\n",
              "  <div id=\"df-b1410cbc-98c3-4c7e-a92f-518454c995fc\" class=\"colab-df-container\">\n",
              "    <div>\n",
              "<style scoped>\n",
              "    .dataframe tbody tr th:only-of-type {\n",
              "        vertical-align: middle;\n",
              "    }\n",
              "\n",
              "    .dataframe tbody tr th {\n",
              "        vertical-align: top;\n",
              "    }\n",
              "\n",
              "    .dataframe thead th {\n",
              "        text-align: right;\n",
              "    }\n",
              "</style>\n",
              "<table border=\"1\" class=\"dataframe\">\n",
              "  <thead>\n",
              "    <tr style=\"text-align: right;\">\n",
              "      <th></th>\n",
              "      <th>id</th>\n",
              "      <th>member_id</th>\n",
              "      <th>loan_amnt</th>\n",
              "      <th>term</th>\n",
              "      <th>int_rate</th>\n",
              "      <th>installment</th>\n",
              "      <th>grade</th>\n",
              "      <th>sub_grade</th>\n",
              "      <th>emp_title</th>\n",
              "      <th>emp_length</th>\n",
              "      <th>...</th>\n",
              "      <th>hardship_loan_status</th>\n",
              "      <th>orig_projected_additional_accrued_interest</th>\n",
              "      <th>hardship_payoff_balance_amount</th>\n",
              "      <th>hardship_last_payment_amount</th>\n",
              "      <th>debt_settlement_flag_date</th>\n",
              "      <th>settlement_status</th>\n",
              "      <th>settlement_date</th>\n",
              "      <th>settlement_amount</th>\n",
              "      <th>settlement_percentage</th>\n",
              "      <th>settlement_term</th>\n",
              "    </tr>\n",
              "  </thead>\n",
              "  <tbody>\n",
              "    <tr>\n",
              "      <th>0</th>\n",
              "      <td>263591</td>\n",
              "      <td>545710</td>\n",
              "      <td>20000.0</td>\n",
              "      <td>60 months</td>\n",
              "      <td>17.93</td>\n",
              "      <td>342.94</td>\n",
              "      <td>E</td>\n",
              "      <td>E5</td>\n",
              "      <td>Wylie ISD</td>\n",
              "      <td>1 year</td>\n",
              "      <td>...</td>\n",
              "      <td>NaN</td>\n",
              "      <td>NaN</td>\n",
              "      <td>NaN</td>\n",
              "      <td>NaN</td>\n",
              "      <td>NaT</td>\n",
              "      <td>NaN</td>\n",
              "      <td>NaT</td>\n",
              "      <td>NaN</td>\n",
              "      <td>NaN</td>\n",
              "      <td>NaN</td>\n",
              "    </tr>\n",
              "    <tr>\n",
              "      <th>1</th>\n",
              "      <td>1613916</td>\n",
              "      <td>69664096</td>\n",
              "      <td>30000.0</td>\n",
              "      <td>36 months</td>\n",
              "      <td>11.99</td>\n",
              "      <td>996.29</td>\n",
              "      <td>C</td>\n",
              "      <td>C1</td>\n",
              "      <td>Sergeant</td>\n",
              "      <td>10+ years</td>\n",
              "      <td>...</td>\n",
              "      <td>NaN</td>\n",
              "      <td>NaN</td>\n",
              "      <td>NaN</td>\n",
              "      <td>NaN</td>\n",
              "      <td>NaT</td>\n",
              "      <td>NaN</td>\n",
              "      <td>NaT</td>\n",
              "      <td>NaN</td>\n",
              "      <td>NaN</td>\n",
              "      <td>NaN</td>\n",
              "    </tr>\n",
              "    <tr>\n",
              "      <th>2</th>\n",
              "      <td>818934</td>\n",
              "      <td>8965180</td>\n",
              "      <td>21500.0</td>\n",
              "      <td>36 months</td>\n",
              "      <td>11.99</td>\n",
              "      <td>714.01</td>\n",
              "      <td>B</td>\n",
              "      <td>B3</td>\n",
              "      <td>Designer</td>\n",
              "      <td>1 year</td>\n",
              "      <td>...</td>\n",
              "      <td>NaN</td>\n",
              "      <td>NaN</td>\n",
              "      <td>NaN</td>\n",
              "      <td>NaN</td>\n",
              "      <td>NaT</td>\n",
              "      <td>NaN</td>\n",
              "      <td>NaT</td>\n",
              "      <td>NaN</td>\n",
              "      <td>NaN</td>\n",
              "      <td>NaN</td>\n",
              "    </tr>\n",
              "    <tr>\n",
              "      <th>3</th>\n",
              "      <td>1606612</td>\n",
              "      <td>70572960</td>\n",
              "      <td>10000.0</td>\n",
              "      <td>36 months</td>\n",
              "      <td>13.67</td>\n",
              "      <td>340.18</td>\n",
              "      <td>C</td>\n",
              "      <td>C3</td>\n",
              "      <td>NaN</td>\n",
              "      <td>NaN</td>\n",
              "      <td>...</td>\n",
              "      <td>NaN</td>\n",
              "      <td>NaN</td>\n",
              "      <td>NaN</td>\n",
              "      <td>NaN</td>\n",
              "      <td>NaT</td>\n",
              "      <td>NaN</td>\n",
              "      <td>NaT</td>\n",
              "      <td>NaN</td>\n",
              "      <td>NaN</td>\n",
              "      <td>NaN</td>\n",
              "    </tr>\n",
              "    <tr>\n",
              "      <th>4</th>\n",
              "      <td>1639932</td>\n",
              "      <td>68589517</td>\n",
              "      <td>5000.0</td>\n",
              "      <td>36 months</td>\n",
              "      <td>8.49</td>\n",
              "      <td>157.82</td>\n",
              "      <td>B</td>\n",
              "      <td>B1</td>\n",
              "      <td>Sr. Manufacturing Engineer</td>\n",
              "      <td>10+ years</td>\n",
              "      <td>...</td>\n",
              "      <td>NaN</td>\n",
              "      <td>NaN</td>\n",
              "      <td>NaN</td>\n",
              "      <td>NaN</td>\n",
              "      <td>NaT</td>\n",
              "      <td>NaN</td>\n",
              "      <td>NaT</td>\n",
              "      <td>NaN</td>\n",
              "      <td>NaN</td>\n",
              "      <td>NaN</td>\n",
              "    </tr>\n",
              "  </tbody>\n",
              "</table>\n",
              "<p>5 rows × 134 columns</p>\n",
              "</div>\n",
              "    <div class=\"colab-df-buttons\">\n",
              "\n",
              "  <div class=\"colab-df-container\">\n",
              "    <button class=\"colab-df-convert\" onclick=\"convertToInteractive('df-b1410cbc-98c3-4c7e-a92f-518454c995fc')\"\n",
              "            title=\"Convert this dataframe to an interactive table.\"\n",
              "            style=\"display:none;\">\n",
              "\n",
              "  <svg xmlns=\"http://www.w3.org/2000/svg\" height=\"24px\" viewBox=\"0 -960 960 960\">\n",
              "    <path d=\"M120-120v-720h720v720H120Zm60-500h600v-160H180v160Zm220 220h160v-160H400v160Zm0 220h160v-160H400v160ZM180-400h160v-160H180v160Zm440 0h160v-160H620v160ZM180-180h160v-160H180v160Zm440 0h160v-160H620v160Z\"/>\n",
              "  </svg>\n",
              "    </button>\n",
              "\n",
              "  <style>\n",
              "    .colab-df-container {\n",
              "      display:flex;\n",
              "      gap: 12px;\n",
              "    }\n",
              "\n",
              "    .colab-df-convert {\n",
              "      background-color: #E8F0FE;\n",
              "      border: none;\n",
              "      border-radius: 50%;\n",
              "      cursor: pointer;\n",
              "      display: none;\n",
              "      fill: #1967D2;\n",
              "      height: 32px;\n",
              "      padding: 0 0 0 0;\n",
              "      width: 32px;\n",
              "    }\n",
              "\n",
              "    .colab-df-convert:hover {\n",
              "      background-color: #E2EBFA;\n",
              "      box-shadow: 0px 1px 2px rgba(60, 64, 67, 0.3), 0px 1px 3px 1px rgba(60, 64, 67, 0.15);\n",
              "      fill: #174EA6;\n",
              "    }\n",
              "\n",
              "    .colab-df-buttons div {\n",
              "      margin-bottom: 4px;\n",
              "    }\n",
              "\n",
              "    [theme=dark] .colab-df-convert {\n",
              "      background-color: #3B4455;\n",
              "      fill: #D2E3FC;\n",
              "    }\n",
              "\n",
              "    [theme=dark] .colab-df-convert:hover {\n",
              "      background-color: #434B5C;\n",
              "      box-shadow: 0px 1px 3px 1px rgba(0, 0, 0, 0.15);\n",
              "      filter: drop-shadow(0px 1px 2px rgba(0, 0, 0, 0.3));\n",
              "      fill: #FFFFFF;\n",
              "    }\n",
              "  </style>\n",
              "\n",
              "    <script>\n",
              "      const buttonEl =\n",
              "        document.querySelector('#df-b1410cbc-98c3-4c7e-a92f-518454c995fc button.colab-df-convert');\n",
              "      buttonEl.style.display =\n",
              "        google.colab.kernel.accessAllowed ? 'block' : 'none';\n",
              "\n",
              "      async function convertToInteractive(key) {\n",
              "        const element = document.querySelector('#df-b1410cbc-98c3-4c7e-a92f-518454c995fc');\n",
              "        const dataTable =\n",
              "          await google.colab.kernel.invokeFunction('convertToInteractive',\n",
              "                                                    [key], {});\n",
              "        if (!dataTable) return;\n",
              "\n",
              "        const docLinkHtml = 'Like what you see? Visit the ' +\n",
              "          '<a target=\"_blank\" href=https://colab.research.google.com/notebooks/data_table.ipynb>data table notebook</a>'\n",
              "          + ' to learn more about interactive tables.';\n",
              "        element.innerHTML = '';\n",
              "        dataTable['output_type'] = 'display_data';\n",
              "        await google.colab.output.renderOutput(dataTable, element);\n",
              "        const docLink = document.createElement('div');\n",
              "        docLink.innerHTML = docLinkHtml;\n",
              "        element.appendChild(docLink);\n",
              "      }\n",
              "    </script>\n",
              "  </div>\n",
              "\n",
              "\n",
              "<div id=\"df-d1c2b0b2-f091-42c3-b046-e02e9f336aa4\">\n",
              "  <button class=\"colab-df-quickchart\" onclick=\"quickchart('df-d1c2b0b2-f091-42c3-b046-e02e9f336aa4')\"\n",
              "            title=\"Suggest charts\"\n",
              "            style=\"display:none;\">\n",
              "\n",
              "<svg xmlns=\"http://www.w3.org/2000/svg\" height=\"24px\"viewBox=\"0 0 24 24\"\n",
              "     width=\"24px\">\n",
              "    <g>\n",
              "        <path d=\"M19 3H5c-1.1 0-2 .9-2 2v14c0 1.1.9 2 2 2h14c1.1 0 2-.9 2-2V5c0-1.1-.9-2-2-2zM9 17H7v-7h2v7zm4 0h-2V7h2v10zm4 0h-2v-4h2v4z\"/>\n",
              "    </g>\n",
              "</svg>\n",
              "  </button>\n",
              "\n",
              "<style>\n",
              "  .colab-df-quickchart {\n",
              "      --bg-color: #E8F0FE;\n",
              "      --fill-color: #1967D2;\n",
              "      --hover-bg-color: #E2EBFA;\n",
              "      --hover-fill-color: #174EA6;\n",
              "      --disabled-fill-color: #AAA;\n",
              "      --disabled-bg-color: #DDD;\n",
              "  }\n",
              "\n",
              "  [theme=dark] .colab-df-quickchart {\n",
              "      --bg-color: #3B4455;\n",
              "      --fill-color: #D2E3FC;\n",
              "      --hover-bg-color: #434B5C;\n",
              "      --hover-fill-color: #FFFFFF;\n",
              "      --disabled-bg-color: #3B4455;\n",
              "      --disabled-fill-color: #666;\n",
              "  }\n",
              "\n",
              "  .colab-df-quickchart {\n",
              "    background-color: var(--bg-color);\n",
              "    border: none;\n",
              "    border-radius: 50%;\n",
              "    cursor: pointer;\n",
              "    display: none;\n",
              "    fill: var(--fill-color);\n",
              "    height: 32px;\n",
              "    padding: 0;\n",
              "    width: 32px;\n",
              "  }\n",
              "\n",
              "  .colab-df-quickchart:hover {\n",
              "    background-color: var(--hover-bg-color);\n",
              "    box-shadow: 0 1px 2px rgba(60, 64, 67, 0.3), 0 1px 3px 1px rgba(60, 64, 67, 0.15);\n",
              "    fill: var(--button-hover-fill-color);\n",
              "  }\n",
              "\n",
              "  .colab-df-quickchart-complete:disabled,\n",
              "  .colab-df-quickchart-complete:disabled:hover {\n",
              "    background-color: var(--disabled-bg-color);\n",
              "    fill: var(--disabled-fill-color);\n",
              "    box-shadow: none;\n",
              "  }\n",
              "\n",
              "  .colab-df-spinner {\n",
              "    border: 2px solid var(--fill-color);\n",
              "    border-color: transparent;\n",
              "    border-bottom-color: var(--fill-color);\n",
              "    animation:\n",
              "      spin 1s steps(1) infinite;\n",
              "  }\n",
              "\n",
              "  @keyframes spin {\n",
              "    0% {\n",
              "      border-color: transparent;\n",
              "      border-bottom-color: var(--fill-color);\n",
              "      border-left-color: var(--fill-color);\n",
              "    }\n",
              "    20% {\n",
              "      border-color: transparent;\n",
              "      border-left-color: var(--fill-color);\n",
              "      border-top-color: var(--fill-color);\n",
              "    }\n",
              "    30% {\n",
              "      border-color: transparent;\n",
              "      border-left-color: var(--fill-color);\n",
              "      border-top-color: var(--fill-color);\n",
              "      border-right-color: var(--fill-color);\n",
              "    }\n",
              "    40% {\n",
              "      border-color: transparent;\n",
              "      border-right-color: var(--fill-color);\n",
              "      border-top-color: var(--fill-color);\n",
              "    }\n",
              "    60% {\n",
              "      border-color: transparent;\n",
              "      border-right-color: var(--fill-color);\n",
              "    }\n",
              "    80% {\n",
              "      border-color: transparent;\n",
              "      border-right-color: var(--fill-color);\n",
              "      border-bottom-color: var(--fill-color);\n",
              "    }\n",
              "    90% {\n",
              "      border-color: transparent;\n",
              "      border-bottom-color: var(--fill-color);\n",
              "    }\n",
              "  }\n",
              "</style>\n",
              "\n",
              "  <script>\n",
              "    async function quickchart(key) {\n",
              "      const quickchartButtonEl =\n",
              "        document.querySelector('#' + key + ' button');\n",
              "      quickchartButtonEl.disabled = true;  // To prevent multiple clicks.\n",
              "      quickchartButtonEl.classList.add('colab-df-spinner');\n",
              "      try {\n",
              "        const charts = await google.colab.kernel.invokeFunction(\n",
              "            'suggestCharts', [key], {});\n",
              "      } catch (error) {\n",
              "        console.error('Error during call to suggestCharts:', error);\n",
              "      }\n",
              "      quickchartButtonEl.classList.remove('colab-df-spinner');\n",
              "      quickchartButtonEl.classList.add('colab-df-quickchart-complete');\n",
              "    }\n",
              "    (() => {\n",
              "      let quickchartButtonEl =\n",
              "        document.querySelector('#df-d1c2b0b2-f091-42c3-b046-e02e9f336aa4 button');\n",
              "      quickchartButtonEl.style.display =\n",
              "        google.colab.kernel.accessAllowed ? 'block' : 'none';\n",
              "    })();\n",
              "  </script>\n",
              "</div>\n",
              "\n",
              "    </div>\n",
              "  </div>\n"
            ],
            "application/vnd.google.colaboratory.intrinsic+json": {
              "type": "dataframe",
              "variable_name": "datos"
            }
          },
          "metadata": {},
          "execution_count": 8
        }
      ]
    },
    {
      "cell_type": "markdown",
      "source": [
        "# Módulos o Dependencias\n"
      ],
      "metadata": {
        "id": "gArF6Miz6ZF6"
      }
    },
    {
      "cell_type": "code",
      "source": [
        "# NO EJECUTAR\n",
        "\n",
        "from numpy import sum\n",
        "# sum(), importamos una sola función\n",
        "\n",
        "import numpy\n",
        "# numpy.sum(), toma todo el paquete\n",
        "\n",
        "#######################\n",
        "import numpy as np\n",
        "# np.sum(), tomó todo el paquete, pero escribo menos codigo\n",
        "#######################\n",
        "\n",
        "from numpy import *\n",
        "# sum(), mean()"
      ],
      "metadata": {
        "id": "0-Nkhdgn8yuN"
      },
      "execution_count": null,
      "outputs": []
    },
    {
      "cell_type": "markdown",
      "source": [
        "# Bases de Python\n"
      ],
      "metadata": {
        "id": "4nZGBFcfLSDG"
      }
    },
    {
      "cell_type": "markdown",
      "source": [
        "## Variables"
      ],
      "metadata": {
        "id": "iN-PCU9jpUzf"
      }
    },
    {
      "cell_type": "code",
      "metadata": {
        "id": "iH6GvJ97zA5A"
      },
      "source": [
        "# Creación de variables y tipos\n",
        "texto = 'Hola mundo'\n",
        "enteros = 2\n",
        "flotantes = 1.34\n",
        "booleanos = True"
      ],
      "execution_count": null,
      "outputs": []
    },
    {
      "cell_type": "code",
      "metadata": {
        "id": "DA2zzjkHzFLD",
        "colab": {
          "base_uri": "https://localhost:8080/"
        },
        "outputId": "3452e488-0511-4bf8-fcf9-d6093e3f619d"
      },
      "source": [
        "print(texto)\n",
        "print(enteros)\n",
        "print(flotantes)\n",
        "print(booleanos)"
      ],
      "execution_count": null,
      "outputs": [
        {
          "output_type": "stream",
          "name": "stdout",
          "text": [
            "Hola mundo\n",
            "2\n",
            "1.34\n",
            "True\n"
          ]
        }
      ]
    },
    {
      "cell_type": "markdown",
      "source": [
        "**Importante:** Los nombres de las variables son sensibles a mayúsuculas, deben comenzar con una letra de la A a la Z o guión bajo (_) y no pueden ser llamadas igual a las palabras reservadas."
      ],
      "metadata": {
        "id": "HoSeyFIAvr64"
      }
    },
    {
      "cell_type": "code",
      "source": [
        "# Ejemplos de sensibilidad a las mayúsculas\n",
        "Texto = 'Esta variable inicia con una mayúscula'\n",
        "texto = 'Esta variable no'\n",
        "TexTO = 'Esta variable tiene mayúsculas al final'\n",
        "\n",
        "print(texto)"
      ],
      "metadata": {
        "id": "g2Zsor5mv7AI",
        "colab": {
          "base_uri": "https://localhost:8080/"
        },
        "outputId": "f5c7ba67-232b-4bba-c19f-336ac5a5f046"
      },
      "execution_count": null,
      "outputs": [
        {
          "output_type": "stream",
          "name": "stdout",
          "text": [
            "Esta variable no\n"
          ]
        }
      ]
    },
    {
      "cell_type": "code",
      "execution_count": null,
      "metadata": {
        "id": "s5u7YmikzwFJ",
        "colab": {
          "base_uri": "https://localhost:8080/"
        },
        "outputId": "76a78bda-51ab-414a-bb78-f30ce23aeddb"
      },
      "outputs": [
        {
          "output_type": "stream",
          "name": "stdout",
          "text": [
            "False, None, True, and, as, assert, async, await, break, class, continue, def, del, elif, else, except, finally, for, from, global, if, import, in, is, lambda, nonlocal, not, or, pass, raise, return, try, while, with, yield\n"
          ]
        }
      ],
      "source": [
        "# Palabras reservadas (no pueden utilizarse para creación de variables)\n",
        "import keyword\n",
        "\n",
        "print(', '.join(keyword.kwlist))"
      ]
    },
    {
      "cell_type": "markdown",
      "source": [
        "Algunos errores que podemos encontrar"
      ],
      "metadata": {
        "id": "TpvMMU81wEkq"
      }
    },
    {
      "cell_type": "code",
      "source": [
        "# Ejemplos de nombres inválidos\n",
        "# No inician con letras o guion bajo\n",
        "3var = 3\n",
        ".var = 3"
      ],
      "metadata": {
        "id": "apr7Wa7klpi7",
        "colab": {
          "base_uri": "https://localhost:8080/",
          "height": 106
        },
        "outputId": "91c2ff47-785e-4d8a-fbc1-7a689cca9f0c"
      },
      "execution_count": null,
      "outputs": [
        {
          "output_type": "error",
          "ename": "SyntaxError",
          "evalue": "invalid decimal literal (<ipython-input-13-0db1c0d9e51e>, line 3)",
          "traceback": [
            "\u001b[0;36m  File \u001b[0;32m\"<ipython-input-13-0db1c0d9e51e>\"\u001b[0;36m, line \u001b[0;32m3\u001b[0m\n\u001b[0;31m    3var = 3\u001b[0m\n\u001b[0m    ^\u001b[0m\n\u001b[0;31mSyntaxError\u001b[0m\u001b[0;31m:\u001b[0m invalid decimal literal\n"
          ]
        }
      ]
    },
    {
      "cell_type": "code",
      "source": [
        "# No pueden usarse palabras reservadas\n",
        "async = 3"
      ],
      "metadata": {
        "id": "I6mELTDxwCqa",
        "colab": {
          "base_uri": "https://localhost:8080/",
          "height": 106
        },
        "outputId": "80657445-a4f7-4324-fd2d-700023d70a2f"
      },
      "execution_count": null,
      "outputs": [
        {
          "output_type": "error",
          "ename": "SyntaxError",
          "evalue": "invalid syntax (<ipython-input-14-f1d27d382cc6>, line 2)",
          "traceback": [
            "\u001b[0;36m  File \u001b[0;32m\"<ipython-input-14-f1d27d382cc6>\"\u001b[0;36m, line \u001b[0;32m2\u001b[0m\n\u001b[0;31m    async = 3\u001b[0m\n\u001b[0m          ^\u001b[0m\n\u001b[0;31mSyntaxError\u001b[0m\u001b[0;31m:\u001b[0m invalid syntax\n"
          ]
        }
      ]
    },
    {
      "cell_type": "code",
      "source": [
        "# consejo para colab, mostrar valores de variables\n",
        "texto_mayus = 'hola'\n",
        "print(texto_mayus)\n",
        "texto_mayus"
      ],
      "metadata": {
        "id": "7EC73sZ8um6E",
        "colab": {
          "base_uri": "https://localhost:8080/",
          "height": 52
        },
        "outputId": "d01433d8-9d9d-46b5-9b55-c578d6f82648"
      },
      "execution_count": null,
      "outputs": [
        {
          "output_type": "stream",
          "name": "stdout",
          "text": [
            "hola\n"
          ]
        },
        {
          "output_type": "execute_result",
          "data": {
            "text/plain": [
              "'hola'"
            ],
            "application/vnd.google.colaboratory.intrinsic+json": {
              "type": "string"
            }
          },
          "metadata": {},
          "execution_count": 15
        }
      ]
    },
    {
      "cell_type": "markdown",
      "source": [
        "## Operaciones básicas"
      ],
      "metadata": {
        "id": "N61rwit_MJ42"
      }
    },
    {
      "cell_type": "code",
      "source": [
        "a = 5\n",
        "b = 2"
      ],
      "metadata": {
        "id": "B9K80NAZMLqR"
      },
      "execution_count": null,
      "outputs": []
    },
    {
      "cell_type": "code",
      "source": [
        "# Suma\n",
        "print(f'Suma: {a + b}')\n",
        "# Resta\n",
        "print(f'Resta: {a - b}')\n",
        "#Multiplicación\n",
        "print(f'Multiplicación: {a * b}')\n",
        "# División\n",
        "print(f'División: {a / b}')\n",
        "# Parte entera de la división\n",
        "print(f'Parte entera de división: {a // b}')\n",
        "# División modular\n",
        "print(f'Residuo: {a % b}')"
      ],
      "metadata": {
        "id": "_bJdHiPkwZYk",
        "colab": {
          "base_uri": "https://localhost:8080/"
        },
        "outputId": "47c5f44b-a5d0-426e-becb-c751dcfbde5a"
      },
      "execution_count": null,
      "outputs": [
        {
          "output_type": "stream",
          "name": "stdout",
          "text": [
            "Suma: 7\n",
            "Resta: 3\n",
            "Multiplicación: 10\n",
            "División: 2.5\n",
            "Parte entera de división: 2\n",
            "Residuo: 1\n"
          ]
        }
      ]
    },
    {
      "cell_type": "markdown",
      "source": [
        "## Listas"
      ],
      "metadata": {
        "id": "xUPPCFZtpXua"
      }
    },
    {
      "cell_type": "code",
      "source": [
        "lista_vacia = []\n",
        "lista_vacia"
      ],
      "metadata": {
        "id": "DCHpQBuZx4bK",
        "colab": {
          "base_uri": "https://localhost:8080/"
        },
        "outputId": "a1c6b7b0-15ea-4cf1-9aee-51b8ae951ff5"
      },
      "execution_count": null,
      "outputs": [
        {
          "output_type": "execute_result",
          "data": {
            "text/plain": [
              "[]"
            ]
          },
          "metadata": {},
          "execution_count": 18
        }
      ]
    },
    {
      "cell_type": "code",
      "metadata": {
        "id": "Qyf1RnKV9W9n",
        "colab": {
          "base_uri": "https://localhost:8080/"
        },
        "outputId": "027589cd-c8cb-4aa2-c138-f3e678726054"
      },
      "source": [
        "tiempos_traslado = [3, 34, 23, 12, 3, 4]\n",
        "tiempos_traslado"
      ],
      "execution_count": null,
      "outputs": [
        {
          "output_type": "execute_result",
          "data": {
            "text/plain": [
              "[3, 34, 23, 12, 3, 4]"
            ]
          },
          "metadata": {},
          "execution_count": 19
        }
      ]
    },
    {
      "cell_type": "code",
      "metadata": {
        "id": "KuallMho9mTR",
        "colab": {
          "base_uri": "https://localhost:8080/"
        },
        "outputId": "077d5130-b76d-4d48-b48c-7827c2a05530"
      },
      "source": [
        "lista_mixta = [\"Juan\", 23, 54.2, 23, False, 'Avión']\n",
        "lista_mixta"
      ],
      "execution_count": null,
      "outputs": [
        {
          "output_type": "execute_result",
          "data": {
            "text/plain": [
              "['Juan', 23, 54.2, 23, False, 'Avión']"
            ]
          },
          "metadata": {},
          "execution_count": 20
        }
      ]
    },
    {
      "cell_type": "code",
      "source": [
        "# Crear rangos (podemos iterar sobre ellos)\n",
        "print(range(10))"
      ],
      "metadata": {
        "id": "vBaHUK8lF5QP",
        "colab": {
          "base_uri": "https://localhost:8080/"
        },
        "outputId": "7b3612a4-0f5e-47a5-cdd3-c9a4f6c6ff01"
      },
      "execution_count": null,
      "outputs": [
        {
          "output_type": "stream",
          "name": "stdout",
          "text": [
            "range(0, 10)\n"
          ]
        }
      ]
    },
    {
      "cell_type": "code",
      "source": [
        "type(range(10))"
      ],
      "metadata": {
        "id": "uK2Q8_OFQ9eR",
        "colab": {
          "base_uri": "https://localhost:8080/"
        },
        "outputId": "c2316643-c170-4bbb-b9e6-09268f038450"
      },
      "execution_count": null,
      "outputs": [
        {
          "output_type": "execute_result",
          "data": {
            "text/plain": [
              "range"
            ]
          },
          "metadata": {},
          "execution_count": 22
        }
      ]
    },
    {
      "cell_type": "code",
      "metadata": {
        "id": "ttKHZlpoADh7",
        "colab": {
          "base_uri": "https://localhost:8080/"
        },
        "outputId": "6f316000-62a9-48f3-9b45-f0a8083fb6f8"
      },
      "source": [
        "sucesion = list(range(10))\n",
        "sucesion"
      ],
      "execution_count": null,
      "outputs": [
        {
          "output_type": "execute_result",
          "data": {
            "text/plain": [
              "[0, 1, 2, 3, 4, 5, 6, 7, 8, 9]"
            ]
          },
          "metadata": {},
          "execution_count": 23
        }
      ]
    },
    {
      "cell_type": "markdown",
      "source": [
        "Podemos localizar elementos de las listas con sus índices (Slicing)"
      ],
      "metadata": {
        "id": "8Y4B2D4DzsvM"
      }
    },
    {
      "cell_type": "code",
      "source": [
        "lista_mixta"
      ],
      "metadata": {
        "id": "hGrpv1g-4Ejw",
        "colab": {
          "base_uri": "https://localhost:8080/"
        },
        "outputId": "0cfbdcef-2185-436c-caf6-b108488bc567"
      },
      "execution_count": null,
      "outputs": [
        {
          "output_type": "execute_result",
          "data": {
            "text/plain": [
              "['Juan', 23, 54.2, 23, False, 'Avión']"
            ]
          },
          "metadata": {},
          "execution_count": 25
        }
      ]
    },
    {
      "cell_type": "code",
      "source": [
        "# Busqueda de elemento de adelante hacia atras\n",
        "lista_mixta[4]"
      ],
      "metadata": {
        "id": "K00VQeIrzshM",
        "colab": {
          "base_uri": "https://localhost:8080/"
        },
        "outputId": "92986659-f982-481e-cd60-fb169624ee10"
      },
      "execution_count": null,
      "outputs": [
        {
          "output_type": "execute_result",
          "data": {
            "text/plain": [
              "False"
            ]
          },
          "metadata": {},
          "execution_count": 27
        }
      ]
    },
    {
      "cell_type": "code",
      "metadata": {
        "id": "2Gd3BjKi-xJi",
        "colab": {
          "base_uri": "https://localhost:8080/"
        },
        "outputId": "c4a9ba53-d819-463f-a0b0-20938d43f408"
      },
      "source": [
        "# Busqueda de elemento de atras hacia adelante\n",
        "lista_mixta[-2]"
      ],
      "execution_count": null,
      "outputs": [
        {
          "output_type": "execute_result",
          "data": {
            "text/plain": [
              "False"
            ]
          },
          "metadata": {},
          "execution_count": 28
        }
      ]
    },
    {
      "cell_type": "code",
      "source": [
        "sucesion"
      ],
      "metadata": {
        "id": "9s6P91XX4zde",
        "colab": {
          "base_uri": "https://localhost:8080/"
        },
        "outputId": "020202e6-ed58-4608-d4de-cfceb57907a1"
      },
      "execution_count": null,
      "outputs": [
        {
          "output_type": "execute_result",
          "data": {
            "text/plain": [
              "[0, 1, 2, 3, 4, 5, 6, 7, 8, 9]"
            ]
          },
          "metadata": {},
          "execution_count": 29
        }
      ]
    },
    {
      "cell_type": "code",
      "metadata": {
        "id": "zz-TWPwg_-Lv",
        "colab": {
          "base_uri": "https://localhost:8080/"
        },
        "outputId": "ec81f1d7-3d95-4da0-a771-4f2c4c749132"
      },
      "source": [
        "sucesion[1:5]"
      ],
      "execution_count": null,
      "outputs": [
        {
          "output_type": "execute_result",
          "data": {
            "text/plain": [
              "[1, 2, 3, 4]"
            ]
          },
          "metadata": {},
          "execution_count": 30
        }
      ]
    },
    {
      "cell_type": "code",
      "metadata": {
        "id": "-BKP0pAZBK1B",
        "colab": {
          "base_uri": "https://localhost:8080/"
        },
        "outputId": "411a46e4-3857-460f-845e-867fcac86993"
      },
      "source": [
        "# Todos los pares considerando al cero\n",
        "sucesion[2:8:2]"
      ],
      "execution_count": null,
      "outputs": [
        {
          "output_type": "execute_result",
          "data": {
            "text/plain": [
              "[2, 4, 6]"
            ]
          },
          "metadata": {},
          "execution_count": 31
        }
      ]
    },
    {
      "cell_type": "code",
      "metadata": {
        "id": "VuR87ndTCn0e",
        "colab": {
          "base_uri": "https://localhost:8080/"
        },
        "outputId": "fc5810bb-87c5-481c-ffcf-bdf757e5ea17"
      },
      "source": [
        "print(lista_mixta)\n",
        "lista_mixta.index(54.2)"
      ],
      "execution_count": null,
      "outputs": [
        {
          "output_type": "stream",
          "name": "stdout",
          "text": [
            "['Juan', 23, 54.2, 23, False, 'Avión']\n"
          ]
        },
        {
          "output_type": "execute_result",
          "data": {
            "text/plain": [
              "2"
            ]
          },
          "metadata": {},
          "execution_count": 32
        }
      ]
    },
    {
      "cell_type": "markdown",
      "source": [
        "## Diccionarios (de los elementos mas importantes)"
      ],
      "metadata": {
        "id": "K6yOHLV4pbv_"
      }
    },
    {
      "cell_type": "code",
      "source": [
        "diccionario_vacio = {}\n",
        "diccionario_vacio"
      ],
      "metadata": {
        "id": "2P1UJrGK4OHN",
        "colab": {
          "base_uri": "https://localhost:8080/"
        },
        "outputId": "c8cf1060-f10c-4569-cce7-0018ea12a490"
      },
      "execution_count": null,
      "outputs": [
        {
          "output_type": "execute_result",
          "data": {
            "text/plain": [
              "{}"
            ]
          },
          "metadata": {},
          "execution_count": 33
        }
      ]
    },
    {
      "cell_type": "code",
      "source": [
        "primer_dic = {'reir': 'accion de expulsar aire por la boca....'}"
      ],
      "metadata": {
        "id": "VWYEE20YulcZ"
      },
      "execution_count": null,
      "outputs": []
    },
    {
      "cell_type": "code",
      "source": [
        "print(primer_dic)"
      ],
      "metadata": {
        "id": "n_GIcJUpu8pc",
        "colab": {
          "base_uri": "https://localhost:8080/"
        },
        "outputId": "f9c6dd87-8eba-4b9e-e14f-bd57a6ca58e0"
      },
      "execution_count": null,
      "outputs": [
        {
          "output_type": "stream",
          "name": "stdout",
          "text": [
            "{'reir': 'accion de expulsar aire por la boca....'}\n"
          ]
        }
      ]
    },
    {
      "cell_type": "code",
      "source": [
        "primer_dic['reir']"
      ],
      "metadata": {
        "id": "nfYdkBgfSv-V",
        "colab": {
          "base_uri": "https://localhost:8080/",
          "height": 35
        },
        "outputId": "dd7529e6-ebac-4b46-da9c-45f5f6734a38"
      },
      "execution_count": null,
      "outputs": [
        {
          "output_type": "execute_result",
          "data": {
            "text/plain": [
              "'accion de expulsar aire por la boca....'"
            ],
            "application/vnd.google.colaboratory.intrinsic+json": {
              "type": "string"
            }
          },
          "metadata": {},
          "execution_count": 36
        }
      ]
    },
    {
      "cell_type": "code",
      "metadata": {
        "id": "2eRmGzV2ELuq",
        "colab": {
          "base_uri": "https://localhost:8080/"
        },
        "outputId": "03d0957a-0531-4805-8d6f-6b5b1b5440f6"
      },
      "source": [
        "datos_personales = {\n",
        "    \"nombre\": \"Manuel Pérez\",\n",
        "    \"carrera\": 'Veterinaria',\n",
        "    \"sueldo\": 30000,\n",
        "    \"es_casado\": False,\n",
        "    \"hijos\": [\n",
        "              {\"nombre\": \"Juan Pérez\", \"edad\": 5},\n",
        "              {\"nombre\": \"María Pérez\", \"edad\": 3}\n",
        "              ]\n",
        "}\n",
        "\n",
        "\n",
        "datos_personales"
      ],
      "execution_count": null,
      "outputs": [
        {
          "output_type": "execute_result",
          "data": {
            "text/plain": [
              "{'nombre': 'Manuel Pérez',\n",
              " 'carrera': 'Veterinaria',\n",
              " 'sueldo': 30000,\n",
              " 'es_casado': False,\n",
              " 'hijos': [{'nombre': 'Juan Pérez', 'edad': 5},\n",
              "  {'nombre': 'María Pérez', 'edad': 3}]}"
            ]
          },
          "metadata": {},
          "execution_count": 37
        }
      ]
    },
    {
      "cell_type": "code",
      "metadata": {
        "id": "W_W_2y2nEhbt",
        "colab": {
          "base_uri": "https://localhost:8080/"
        },
        "outputId": "a6cd977e-fb22-4c97-93de-8f2ee988c739"
      },
      "source": [
        "# Acceder a datis dentro de un diccionario\n",
        "datos_personales['hijos']"
      ],
      "execution_count": null,
      "outputs": [
        {
          "output_type": "execute_result",
          "data": {
            "text/plain": [
              "[{'nombre': 'Juan Pérez', 'edad': 5}, {'nombre': 'María Pérez', 'edad': 3}]"
            ]
          },
          "metadata": {},
          "execution_count": 38
        }
      ]
    },
    {
      "cell_type": "code",
      "metadata": {
        "id": "J3_OGktpE26I",
        "colab": {
          "base_uri": "https://localhost:8080/"
        },
        "outputId": "0a7f6316-e026-4b20-9661-2a80023f5937"
      },
      "source": [
        "# Primer paso, acceder a la lista que contiene los hijos\n",
        "# segundo paso, acceder al segundo elemento de esa lista (posicion 1)\n",
        "# tercer paso, acceder al valor del nombre del hijo\n",
        "datos_personales['hijos']"
      ],
      "execution_count": null,
      "outputs": [
        {
          "output_type": "execute_result",
          "data": {
            "text/plain": [
              "[{'nombre': 'Juan Pérez', 'edad': 5}, {'nombre': 'María Pérez', 'edad': 3}]"
            ]
          },
          "metadata": {},
          "execution_count": 39
        }
      ]
    },
    {
      "cell_type": "code",
      "source": [
        "datos_personales['hijos'][0]"
      ],
      "metadata": {
        "id": "1g_ey9-Qvln2",
        "colab": {
          "base_uri": "https://localhost:8080/"
        },
        "outputId": "f0ee16ff-8981-4901-85cf-af1fc7d77cb5"
      },
      "execution_count": null,
      "outputs": [
        {
          "output_type": "execute_result",
          "data": {
            "text/plain": [
              "{'nombre': 'Juan Pérez', 'edad': 5}"
            ]
          },
          "metadata": {},
          "execution_count": 40
        }
      ]
    },
    {
      "cell_type": "code",
      "source": [
        "datos_personales['hijos'][0]['edad']"
      ],
      "metadata": {
        "id": "hqHvdTYFvlg0",
        "colab": {
          "base_uri": "https://localhost:8080/"
        },
        "outputId": "a8334d6c-1b88-4372-bd28-5e583faa1039"
      },
      "execution_count": null,
      "outputs": [
        {
          "output_type": "execute_result",
          "data": {
            "text/plain": [
              "5"
            ]
          },
          "metadata": {},
          "execution_count": 41
        }
      ]
    },
    {
      "cell_type": "code",
      "metadata": {
        "id": "mwAq0j6dFQg1",
        "colab": {
          "base_uri": "https://localhost:8080/"
        },
        "outputId": "a450f0d6-0cd8-4673-a3c5-561fb9a70c59"
      },
      "source": [
        "# ¿Cuántos hijos tiene?\n",
        "print(type(datos_personales['hijos']))\n",
        "len(datos_personales['hijos'])"
      ],
      "execution_count": null,
      "outputs": [
        {
          "output_type": "stream",
          "name": "stdout",
          "text": [
            "<class 'list'>\n"
          ]
        },
        {
          "output_type": "execute_result",
          "data": {
            "text/plain": [
              "2"
            ]
          },
          "metadata": {},
          "execution_count": 42
        }
      ]
    },
    {
      "cell_type": "code",
      "source": [
        "datos_personales['sueldo'] = 50_000"
      ],
      "metadata": {
        "id": "5aD-2LY6LRl-"
      },
      "execution_count": null,
      "outputs": []
    },
    {
      "cell_type": "code",
      "source": [
        "datos_personales"
      ],
      "metadata": {
        "colab": {
          "base_uri": "https://localhost:8080/"
        },
        "id": "Dkp99pk6j5jY",
        "outputId": "bdf55701-9a29-46a7-d7f0-9327a9ddff15"
      },
      "execution_count": null,
      "outputs": [
        {
          "output_type": "execute_result",
          "data": {
            "text/plain": [
              "{'nombre': 'Manuel Pérez',\n",
              " 'carrera': 'Veterinaria',\n",
              " 'sueldo': 50000,\n",
              " 'es_casado': False,\n",
              " 'hijos': [{'nombre': 'Juan Pérez', 'edad': 5},\n",
              "  {'nombre': 'María Pérez', 'edad': 3}]}"
            ]
          },
          "metadata": {},
          "execution_count": 44
        }
      ]
    },
    {
      "cell_type": "code",
      "source": [
        "datos_personales.keys()"
      ],
      "metadata": {
        "id": "pIf60t7BLRjc",
        "colab": {
          "base_uri": "https://localhost:8080/"
        },
        "outputId": "3c01a41a-ffeb-4d45-8873-64a97e910797"
      },
      "execution_count": null,
      "outputs": [
        {
          "output_type": "execute_result",
          "data": {
            "text/plain": [
              "dict_keys(['nombre', 'carrera', 'sueldo', 'es_casado', 'hijos'])"
            ]
          },
          "metadata": {},
          "execution_count": 45
        }
      ]
    },
    {
      "cell_type": "code",
      "source": [
        "datos_personales.values()"
      ],
      "metadata": {
        "id": "nag9zhv6LRhP",
        "colab": {
          "base_uri": "https://localhost:8080/"
        },
        "outputId": "376123c0-a974-42d4-d5ae-2aedc8312451"
      },
      "execution_count": null,
      "outputs": [
        {
          "output_type": "execute_result",
          "data": {
            "text/plain": [
              "dict_values(['Manuel Pérez', 'Veterinaria', 50000, False, [{'nombre': 'Juan Pérez', 'edad': 5}, {'nombre': 'María Pérez', 'edad': 3}]])"
            ]
          },
          "metadata": {},
          "execution_count": 46
        }
      ]
    },
    {
      "cell_type": "markdown",
      "metadata": {
        "id": "2G-MheOorJeg"
      },
      "source": [
        "# Funciones\n",
        "\n",
        "Para definir las funciones seguimos la sintaxis\n",
        "\n",
        "```python\n",
        "def <nombre de la funcion>((parametros)):\n",
        "    <bloque de codigo>\n",
        "    (opcional) return <valor a regresar>\n",
        "```\n",
        "\n",
        "El nombre de la función sigue las mismas reglas que el nombre de las variables.\n",
        "\n",
        "Para regresar un valor de nuestra función existen dos palabras reservada ```return``` y ```yield```. La primera termina la ejecución de la función cuando la encuentra y puede estar en cualquier parte de esta, incluso puede haber varios returns en distintas partes de la función. La segunda, ```yield``` convierte a la función en un iterable. A grandes rasgos, lo que hace es pausar la ejecución de la función hasta que se le pida el siguiente valor."
      ]
    },
    {
      "cell_type": "code",
      "metadata": {
        "id": "B4udBniAsG5-"
      },
      "source": [
        "def hola(nombre):\n",
        "    print(f'Hola {nombre}')"
      ],
      "execution_count": null,
      "outputs": []
    },
    {
      "cell_type": "code",
      "source": [
        "nombresito = 'Javier'"
      ],
      "metadata": {
        "id": "UHp-JjfhZ2vb"
      },
      "execution_count": null,
      "outputs": []
    },
    {
      "cell_type": "code",
      "metadata": {
        "id": "ZZvHvjQ5spST",
        "colab": {
          "base_uri": "https://localhost:8080/"
        },
        "outputId": "203fd2c6-44e6-4738-f6cd-a8f9adb680ca"
      },
      "source": [
        "hola(nombresito)"
      ],
      "execution_count": null,
      "outputs": [
        {
          "output_type": "stream",
          "name": "stdout",
          "text": [
            "Hola Javier\n"
          ]
        }
      ]
    },
    {
      "cell_type": "code",
      "metadata": {
        "id": "jCRsF7ljsviW"
      },
      "source": [
        "def hola(nombre, param):\n",
        "    print(nombre*param)"
      ],
      "execution_count": null,
      "outputs": []
    },
    {
      "cell_type": "code",
      "metadata": {
        "id": "cFjBPHWFs2lK",
        "colab": {
          "base_uri": "https://localhost:8080/"
        },
        "outputId": "feadd163-ec2d-4e9e-ff8e-940fb8b10ed8"
      },
      "source": [
        "hola('Javier', 7)"
      ],
      "execution_count": null,
      "outputs": [
        {
          "output_type": "stream",
          "name": "stdout",
          "text": [
            "JavierJavierJavierJavierJavierJavierJavier\n"
          ]
        }
      ]
    },
    {
      "cell_type": "code",
      "metadata": {
        "id": "OGLrt7IKtAKL"
      },
      "source": [
        "def hola2(nombre, saludo = 'Hola'):\n",
        "    print(f'{saludo} {nombre}')"
      ],
      "execution_count": null,
      "outputs": []
    },
    {
      "cell_type": "code",
      "metadata": {
        "id": "wvteMLb2tJUa",
        "colab": {
          "base_uri": "https://localhost:8080/"
        },
        "outputId": "af57917b-3a0e-4a28-fa8f-fc52fbb64e98"
      },
      "source": [
        "hola2('Javier')"
      ],
      "execution_count": null,
      "outputs": [
        {
          "output_type": "stream",
          "name": "stdout",
          "text": [
            "Hola Javier\n"
          ]
        }
      ]
    },
    {
      "cell_type": "code",
      "source": [
        "hola2('Javier', 'Adios')"
      ],
      "metadata": {
        "id": "ForEHc5b33qA",
        "colab": {
          "base_uri": "https://localhost:8080/"
        },
        "outputId": "0d0b0672-f833-41b0-ae47-6b1a08449d61"
      },
      "execution_count": null,
      "outputs": [
        {
          "output_type": "stream",
          "name": "stdout",
          "text": [
            "Adios Javier\n"
          ]
        }
      ]
    },
    {
      "cell_type": "code",
      "metadata": {
        "id": "9dRt2pZutQuR"
      },
      "source": [
        "def imprime_numeros(n = 10, para = None):\n",
        "    for i in range(n):\n",
        "        if i == para:\n",
        "            return 'nos detuvimos'\n",
        "        print(i)\n",
        "\n",
        "    return 'terminamos'\n"
      ],
      "execution_count": null,
      "outputs": []
    },
    {
      "cell_type": "code",
      "metadata": {
        "id": "QrRuBq8itlIi",
        "colab": {
          "base_uri": "https://localhost:8080/"
        },
        "outputId": "6c0df2f8-94cd-432f-91ff-a54928df064e"
      },
      "source": [
        "algo = imprime_numeros(10)"
      ],
      "execution_count": null,
      "outputs": [
        {
          "output_type": "stream",
          "name": "stdout",
          "text": [
            "0\n",
            "1\n",
            "2\n",
            "3\n",
            "4\n",
            "5\n",
            "6\n",
            "7\n",
            "8\n",
            "9\n"
          ]
        }
      ]
    },
    {
      "cell_type": "code",
      "source": [
        "algo"
      ],
      "metadata": {
        "id": "mXIb2KUz_jpQ",
        "colab": {
          "base_uri": "https://localhost:8080/",
          "height": 35
        },
        "outputId": "2e3a6cd2-836e-496a-e886-5afdfdfa2c7e"
      },
      "execution_count": null,
      "outputs": [
        {
          "output_type": "execute_result",
          "data": {
            "text/plain": [
              "'terminamos'"
            ],
            "application/vnd.google.colaboratory.intrinsic+json": {
              "type": "string"
            }
          },
          "metadata": {},
          "execution_count": 61
        }
      ]
    },
    {
      "cell_type": "code",
      "source": [
        "def suma_rara(valor1, valor2=2):\n",
        "  valor = valor1 + 2*valor2\n",
        "  return valor, valor-1"
      ],
      "metadata": {
        "id": "0kZ3p3jpJ-Gr"
      },
      "execution_count": null,
      "outputs": []
    },
    {
      "cell_type": "code",
      "source": [
        "suma_rara(3)"
      ],
      "metadata": {
        "id": "H-LR2YOsC7Yh",
        "colab": {
          "base_uri": "https://localhost:8080/"
        },
        "outputId": "f069504e-85c4-4f90-a712-d8127bc36f0a"
      },
      "execution_count": null,
      "outputs": [
        {
          "output_type": "execute_result",
          "data": {
            "text/plain": [
              "(7, 6)"
            ]
          },
          "metadata": {},
          "execution_count": 63
        }
      ]
    },
    {
      "cell_type": "code",
      "source": [
        "valores, valores_1 = suma_rara(3)"
      ],
      "metadata": {
        "id": "GSuJM1OdKJRD"
      },
      "execution_count": null,
      "outputs": []
    },
    {
      "cell_type": "code",
      "source": [
        "valores"
      ],
      "metadata": {
        "id": "45GYGI12KRf1",
        "colab": {
          "base_uri": "https://localhost:8080/"
        },
        "outputId": "0adcb5a1-f82d-471d-90a7-e4e0fcb99393"
      },
      "execution_count": null,
      "outputs": [
        {
          "output_type": "execute_result",
          "data": {
            "text/plain": [
              "7"
            ]
          },
          "metadata": {},
          "execution_count": 65
        }
      ]
    },
    {
      "cell_type": "code",
      "source": [
        "valores_1"
      ],
      "metadata": {
        "id": "GAfZPLX0KTTq",
        "colab": {
          "base_uri": "https://localhost:8080/"
        },
        "outputId": "f594b9b6-df3c-40f7-a1a9-d9043399138e"
      },
      "execution_count": null,
      "outputs": [
        {
          "output_type": "execute_result",
          "data": {
            "text/plain": [
              "6"
            ]
          },
          "metadata": {},
          "execution_count": 66
        }
      ]
    },
    {
      "cell_type": "code",
      "source": [
        "una_sola_variable = suma_rara(3)"
      ],
      "metadata": {
        "id": "3jWcppe7bED6"
      },
      "execution_count": null,
      "outputs": []
    },
    {
      "cell_type": "code",
      "source": [
        "una_sola_variable"
      ],
      "metadata": {
        "id": "vvv3G6jQbH-G",
        "colab": {
          "base_uri": "https://localhost:8080/"
        },
        "outputId": "a7d8eeda-b74c-4da6-abce-c993907cd9d4"
      },
      "execution_count": null,
      "outputs": [
        {
          "output_type": "execute_result",
          "data": {
            "text/plain": [
              "(7, 6)"
            ]
          },
          "metadata": {},
          "execution_count": 68
        }
      ]
    },
    {
      "cell_type": "markdown",
      "source": [
        "# Objetos (POO)\n"
      ],
      "metadata": {
        "id": "qa6UIESW6xcO"
      }
    },
    {
      "cell_type": "code",
      "source": [
        "class ObjetoBasico:\n",
        "  def __init__(self, una_caracteristica):\n",
        "    self.caracteristica = una_caracteristica\n",
        "    self.edad = 3*una_caracteristica\n",
        "\n",
        "  def duplicar(self):\n",
        "    return self.caracteristica*2"
      ],
      "metadata": {
        "id": "xW-Xx2iECwqo"
      },
      "execution_count": null,
      "outputs": []
    },
    {
      "cell_type": "code",
      "source": [
        "a = ObjetoBasico(6)"
      ],
      "metadata": {
        "id": "CDh7tWVUZHjy"
      },
      "execution_count": null,
      "outputs": []
    },
    {
      "cell_type": "code",
      "source": [
        "a"
      ],
      "metadata": {
        "id": "iDyae1U7BKQk"
      },
      "execution_count": null,
      "outputs": []
    },
    {
      "cell_type": "code",
      "source": [
        "# Atributo\n",
        "a.caracteristica"
      ],
      "metadata": {
        "id": "eQMEj9A-ZLNa"
      },
      "execution_count": null,
      "outputs": []
    },
    {
      "cell_type": "code",
      "source": [
        "a.edad"
      ],
      "metadata": {
        "id": "z7XRQI40G9LP"
      },
      "execution_count": null,
      "outputs": []
    },
    {
      "cell_type": "code",
      "source": [
        "# Método\n",
        "a.duplicar()"
      ],
      "metadata": {
        "id": "vRvPenQrBhv0"
      },
      "execution_count": null,
      "outputs": []
    },
    {
      "cell_type": "markdown",
      "source": [
        "# Selección de datos sencillos solo para ejemplo de uso de Tensorflow"
      ],
      "metadata": {
        "id": "1nBWtekEA_U_"
      }
    },
    {
      "cell_type": "code",
      "source": [
        "datos_usar = datos.loc[:,['loan_amnt', 'int_rate', 'max_bal_bc', 'open_acc_6m', 'loan_status']].copy()"
      ],
      "metadata": {
        "id": "nh2pQYfjBGpy"
      },
      "execution_count": null,
      "outputs": []
    },
    {
      "cell_type": "code",
      "source": [
        "datos_usar"
      ],
      "metadata": {
        "id": "6IN4fDLvBZcP"
      },
      "execution_count": null,
      "outputs": []
    },
    {
      "cell_type": "code",
      "execution_count": null,
      "metadata": {
        "id": "DyqFkJSUd-uy"
      },
      "outputs": [],
      "source": [
        "info_etiquetas = pd.read_excel('/content/drive/MyDrive/Cruso-ApsFinancieras/semana1/lendingclub_datadictionary.xlsx', index_col=0)"
      ]
    },
    {
      "cell_type": "code",
      "source": [
        "print(info_etiquetas.loc['open_acc_6m',:])"
      ],
      "metadata": {
        "id": "6-9wK02V-6oY"
      },
      "execution_count": null,
      "outputs": []
    },
    {
      "cell_type": "code",
      "source": [
        "loan_status_to_objective = {\n",
        "    \"Current\": 0,\n",
        "    \"Fully Paid\": 0,\n",
        "    \"Charged Off\": 1,\n",
        "    \"Late (31-120 days)\": 0,\n",
        "    \"In Grace Period\": 0,\n",
        "    \"Late (16-30 days)\": 0,\n",
        "    \"Default\": 1,\n",
        "}\n",
        "\n",
        "X = datos_usar.drop(columns=['loan_status'], axis=1)\n",
        "X.fillna(0, inplace=True)\n",
        "# Utilizamos el mapeo definido en el diccionario de arriba\n",
        "\n",
        "y = datos_usar['loan_status'].map(loan_status_to_objective)\n",
        "\n",
        "\n",
        "# Quedarme con las que no tienen valor nulo en la variable objetivo\n",
        "X = X[~y.isna()]\n",
        "y = y[~y.isna()]"
      ],
      "metadata": {
        "id": "SDrCfuKYCeQY"
      },
      "execution_count": null,
      "outputs": []
    },
    {
      "cell_type": "code",
      "source": [
        "X.shape, y.shape"
      ],
      "metadata": {
        "id": "dJVhP6CgCyyz"
      },
      "execution_count": null,
      "outputs": []
    },
    {
      "cell_type": "code",
      "source": [
        "X"
      ],
      "metadata": {
        "id": "ZjKQBa0aDVhA"
      },
      "execution_count": null,
      "outputs": []
    },
    {
      "cell_type": "code",
      "source": [
        "y"
      ],
      "metadata": {
        "id": "D9GK33h6D1Rf"
      },
      "execution_count": null,
      "outputs": []
    },
    {
      "cell_type": "markdown",
      "source": [
        "Separamos en datos de entrenamiento y datos de pruebas"
      ],
      "metadata": {
        "id": "OeHVfTIBD2ad"
      }
    },
    {
      "cell_type": "code",
      "source": [
        "from sklearn.model_selection import train_test_split\n",
        "\n",
        "X_train, X_test, y_train, y_test = train_test_split(X, y, test_size=0.2, random_state=42)"
      ],
      "metadata": {
        "id": "n4EHJ-92EA5G"
      },
      "execution_count": null,
      "outputs": []
    },
    {
      "cell_type": "markdown",
      "source": [
        "# Intro a tensorflow (keras)\n"
      ],
      "metadata": {
        "id": "g9Pe7yYe7rhs"
      }
    },
    {
      "cell_type": "code",
      "source": [
        "from tensorflow import keras\n",
        "import tensorflow as tf\n",
        "\n",
        "model = keras.Sequential(\n",
        "    [\n",
        "        keras.layers.Dense(64, activation=\"relu\", input_shape=(X_train.shape[-1],)),\n",
        "        keras.layers.Dense(64, activation=\"relu\"),\n",
        "        keras.layers.Dense(64, activation=\"relu\"),\n",
        "        keras.layers.Dense(1, activation=\"sigmoid\")\n",
        "    ]\n",
        ")\n",
        "model.summary()"
      ],
      "metadata": {
        "id": "VGOY6QC9ENP8"
      },
      "execution_count": null,
      "outputs": []
    },
    {
      "cell_type": "code",
      "source": [
        "!pip show tensorflow"
      ],
      "metadata": {
        "id": "RqTHrnvEENt6"
      },
      "execution_count": null,
      "outputs": []
    },
    {
      "cell_type": "code",
      "source": [
        "model.compile(\n",
        "    optimizer=keras.optimizers.Adam(0.01), loss=\"binary_crossentropy\", # El 0.01 es llamado \"learning rate\"\n",
        ")"
      ],
      "metadata": {
        "id": "LlPl_co-ENrv"
      },
      "execution_count": null,
      "outputs": []
    },
    {
      "cell_type": "code",
      "source": [
        "history = model.fit(\n",
        "    X_train,\n",
        "    y_train,\n",
        "    batch_size=4096, # Cantidad de datos que optimizan pesos por cada pasada, \"batch size\"\n",
        "    epochs=10, # Cantidad de pasadas que dan todos los datos, para entrenamiento\n",
        "    verbose=1\n",
        ")"
      ],
      "metadata": {
        "id": "hS903nrMENpe"
      },
      "execution_count": null,
      "outputs": []
    },
    {
      "cell_type": "code",
      "source": [
        "import plotly.graph_objects as go\n",
        "import plotly.express as px\n",
        "import plotly.io as pio"
      ],
      "metadata": {
        "id": "voZSEUuseBrn"
      },
      "execution_count": null,
      "outputs": []
    },
    {
      "cell_type": "code",
      "source": [
        "fig = go.Figure()\n",
        "fig.add_trace(go.Scatter(y = history.history['loss'], name = 'loss'))\n",
        "fig.update_layout(\n",
        "    title = 'Pérdida del modelo',\n",
        "    xaxis_title = 'Época (epoch)',\n",
        "    yaxis_title = 'Pérdida (MSE)'\n",
        ")\n",
        "fig.show()"
      ],
      "metadata": {
        "id": "-47bedF_dGpF"
      },
      "execution_count": null,
      "outputs": []
    },
    {
      "cell_type": "markdown",
      "source": [
        "Evaluación del modelo"
      ],
      "metadata": {
        "id": "dzmoClGkEseH"
      }
    },
    {
      "cell_type": "code",
      "source": [
        "import numpy as np"
      ],
      "metadata": {
        "id": "SLIAgBjEH2oK"
      },
      "execution_count": null,
      "outputs": []
    },
    {
      "cell_type": "code",
      "source": [
        "np.set_printoptions(suppress=True)"
      ],
      "metadata": {
        "id": "hnVK7TFgH1nP"
      },
      "execution_count": null,
      "outputs": []
    },
    {
      "cell_type": "code",
      "source": [
        "y_train_pred = model.predict(X_train)\n",
        "y_train_pred"
      ],
      "metadata": {
        "id": "xMSZk-TQ4p5E"
      },
      "execution_count": null,
      "outputs": []
    },
    {
      "cell_type": "code",
      "source": [
        "#y_train_pred = model.predict(train_features)\n",
        "y_train_pred[y_train_pred < 0.5] = 0\n",
        "y_train_pred[y_train_pred >= 0.5] = 1"
      ],
      "metadata": {
        "id": "VpjKDeemyyR5"
      },
      "execution_count": null,
      "outputs": []
    },
    {
      "cell_type": "code",
      "source": [
        "y_test_pred = model.predict(X_test)\n",
        "y_test_pred[y_test_pred < 0.5] = 0\n",
        "y_test_pred[y_test_pred >= 0.5] = 1"
      ],
      "metadata": {
        "id": "N5wnrKyvHUSa"
      },
      "execution_count": null,
      "outputs": []
    },
    {
      "cell_type": "code",
      "source": [
        "from sklearn.metrics import ConfusionMatrixDisplay\n",
        "import matplotlib.pyplot as plt"
      ],
      "metadata": {
        "id": "YWEa45ewynAx"
      },
      "execution_count": null,
      "outputs": []
    },
    {
      "cell_type": "code",
      "source": [
        "ConfusionMatrixDisplay.from_predictions(y_train, y_train_pred, cmap=plt.cm.Greens)"
      ],
      "metadata": {
        "id": "A8pnRIIjyqOF"
      },
      "execution_count": null,
      "outputs": []
    },
    {
      "cell_type": "code",
      "source": [
        "ConfusionMatrixDisplay.from_predictions(y_test, y_test_pred, cmap=plt.cm.Greens)"
      ],
      "metadata": {
        "id": "5hoA_Ryf3LGE"
      },
      "execution_count": null,
      "outputs": []
    },
    {
      "cell_type": "markdown",
      "source": [
        "# Ejemplo con un modelo que utiliza mas características (LDA)\n",
        "\n",
        "![image.png](data:image/png;base64,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)"
      ],
      "metadata": {
        "id": "n-L8raYYHWvv"
      }
    }
  ]
}